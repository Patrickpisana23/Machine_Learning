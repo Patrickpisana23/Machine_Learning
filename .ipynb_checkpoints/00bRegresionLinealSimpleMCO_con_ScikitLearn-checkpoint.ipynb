{
 "cells": [
  {
   "cell_type": "markdown",
   "id": "6d5a3804",
   "metadata": {},
   "source": [
    "# Regresión Lineal Simple con minimos cuadrados\n",
    "# ordinarios(MCO) o OLS(Ordinay least squares) desde cero a experto\n",
    "# con Scikit-Learn\n"
   ]
  },
  {
   "cell_type": "markdown",
   "id": "f080c3ce",
   "metadata": {},
   "source": [
    "## importar librerias"
   ]
  },
  {
   "cell_type": "code",
   "execution_count": 1,
   "id": "f4bbb417",
   "metadata": {},
   "outputs": [],
   "source": [
    "import pandas as pd\n",
    "import numpy as np\n",
    "import matplotlib.pyplot as plt\n",
    "import seaborn as sns"
   ]
  },
  {
   "cell_type": "markdown",
   "id": "aea8003c",
   "metadata": {},
   "source": [
    "## Cargar los datos\n"
   ]
  },
  {
   "cell_type": "code",
   "execution_count": 2,
   "id": "9c4241dc",
   "metadata": {},
   "outputs": [],
   "source": [
    "datos = pd.read_csv('Advertising.csv', index_col=0)"
   ]
  },
  {
   "cell_type": "code",
   "execution_count": 3,
   "id": "212fd972",
   "metadata": {},
   "outputs": [
    {
     "data": {
      "text/html": [
       "<div>\n",
       "<style scoped>\n",
       "    .dataframe tbody tr th:only-of-type {\n",
       "        vertical-align: middle;\n",
       "    }\n",
       "\n",
       "    .dataframe tbody tr th {\n",
       "        vertical-align: top;\n",
       "    }\n",
       "\n",
       "    .dataframe thead th {\n",
       "        text-align: right;\n",
       "    }\n",
       "</style>\n",
       "<table border=\"1\" class=\"dataframe\">\n",
       "  <thead>\n",
       "    <tr style=\"text-align: right;\">\n",
       "      <th></th>\n",
       "      <th>TV</th>\n",
       "      <th>Radio</th>\n",
       "      <th>Newspaper</th>\n",
       "      <th>Sales</th>\n",
       "    </tr>\n",
       "  </thead>\n",
       "  <tbody>\n",
       "    <tr>\n",
       "      <th>1</th>\n",
       "      <td>230.1</td>\n",
       "      <td>37.8</td>\n",
       "      <td>69.2</td>\n",
       "      <td>22.1</td>\n",
       "    </tr>\n",
       "    <tr>\n",
       "      <th>2</th>\n",
       "      <td>44.5</td>\n",
       "      <td>39.3</td>\n",
       "      <td>45.1</td>\n",
       "      <td>10.4</td>\n",
       "    </tr>\n",
       "    <tr>\n",
       "      <th>3</th>\n",
       "      <td>17.2</td>\n",
       "      <td>45.9</td>\n",
       "      <td>69.3</td>\n",
       "      <td>9.3</td>\n",
       "    </tr>\n",
       "    <tr>\n",
       "      <th>4</th>\n",
       "      <td>151.5</td>\n",
       "      <td>41.3</td>\n",
       "      <td>58.5</td>\n",
       "      <td>18.5</td>\n",
       "    </tr>\n",
       "    <tr>\n",
       "      <th>5</th>\n",
       "      <td>180.8</td>\n",
       "      <td>10.8</td>\n",
       "      <td>58.4</td>\n",
       "      <td>12.9</td>\n",
       "    </tr>\n",
       "  </tbody>\n",
       "</table>\n",
       "</div>"
      ],
      "text/plain": [
       "      TV  Radio  Newspaper  Sales\n",
       "1  230.1   37.8       69.2   22.1\n",
       "2   44.5   39.3       45.1   10.4\n",
       "3   17.2   45.9       69.3    9.3\n",
       "4  151.5   41.3       58.5   18.5\n",
       "5  180.8   10.8       58.4   12.9"
      ]
     },
     "execution_count": 3,
     "metadata": {},
     "output_type": "execute_result"
    }
   ],
   "source": [
    "datos.head()"
   ]
  },
  {
   "cell_type": "code",
   "execution_count": null,
   "id": "4aa716f4",
   "metadata": {},
   "outputs": [],
   "source": [
    "datos.tail()"
   ]
  },
  {
   "cell_type": "markdown",
   "id": "1bb2fdc5",
   "metadata": {},
   "source": [
    "### Que relacion existe entre los gastos en publicidad en TV y las unidades vendidas?\n"
   ]
  },
  {
   "cell_type": "code",
   "execution_count": 18,
   "id": "8ff33a15",
   "metadata": {},
   "outputs": [
    {
     "data": {
      "text/plain": [
       "Text(0, 0.5, 'unidades vendidas en miles')"
      ]
     },
     "execution_count": 18,
     "metadata": {},
     "output_type": "execute_result"
    },
    {
     "data": {
      "image/png": "[encoded data removed]",
      "text/plain": [
       "<Figure size 432x288 with 1 Axes>"
      ]
     },
     "metadata": {
      "needs_background": "light"
     },
     "output_type": "display_data"
    }
   ],
   "source": [
    "plt.plot(datos['TV'], datos['Sales'] , 'o')\n",
    "plt.xlabel(\"Gastos de publicidad en TV en miles\")\n",
    "plt.ylabel(\"unidades vendidas en miles\")"
   ]
  },
  {
   "cell_type": "code",
   "execution_count": null,
   "id": "0dba5586",
   "metadata": {},
   "outputs": [],
   "source": []
  },
  {
   "cell_type": "markdown",
   "id": "d2271d6d",
   "metadata": {},
   "source": [
    "## Definir la variable de entrada(predictora) y la variable de salida"
   ]
  },
  {
   "cell_type": "code",
   "execution_count": 22,
   "id": "8be27568",
   "metadata": {},
   "outputs": [],
   "source": [
    "x = datos[['TV']]"
   ]
  },
  {
   "cell_type": "code",
   "execution_count": 20,
   "id": "de1c7907",
   "metadata": {
    "collapsed": true
   },
   "outputs": [],
   "source": [
    "y = datos[['Sales']]"
   ]
  },
  {
   "cell_type": "markdown",
   "id": "caaaac81",
   "metadata": {},
   "source": [
    "### Elaboracion del Modelo de regresion lineal simple sin separar datos de\n",
    "### entrenamiento y prueba"
   ]
  },
  {
   "cell_type": "code",
   "execution_count": 25,
   "id": "45f0aa90",
   "metadata": {},
   "outputs": [],
   "source": [
    "from sklearn.linear_model import LinearRegression"
   ]
  },
  {
   "cell_type": "code",
   "execution_count": 26,
   "id": "1b2fbab4",
   "metadata": {},
   "outputs": [],
   "source": [
    "modelo = LinearRegression()"
   ]
  },
  {
   "cell_type": "markdown",
   "id": "f62f74c3",
   "metadata": {},
   "source": [
    "### Entrenar el Modelo con la totalidad de datos  \\\\\\"
   ]
  },
  {
   "cell_type": "code",
   "execution_count": 27,
   "id": "89e23b9c",
   "metadata": {},
   "outputs": [
    {
     "data": {
      "text/plain": [
       "LinearRegression()"
      ]
     },
     "execution_count": 27,
     "metadata": {},
     "output_type": "execute_result"
    }
   ],
   "source": [
    "modelo.fit(x,y)"
   ]
  },
  {
   "cell_type": "code",
   "execution_count": 28,
   "id": "e5c0ddb7",
   "metadata": {},
   "outputs": [
    {
     "name": "stdout",
     "output_type": "stream",
     "text": [
      "Beta0 [7.03259355]\n"
     ]
    }
   ],
   "source": [
    "b0 = modelo.intercept_\n",
    "print('Beta0', b0)"
   ]
  },
  {
   "cell_type": "code",
   "execution_count": 36,
   "id": "6f34f9bd",
   "metadata": {},
   "outputs": [
    {
     "name": "stdout",
     "output_type": "stream",
     "text": [
      "beta1 [0.04753664]\n"
     ]
    }
   ],
   "source": [
    "b1 = modelo.coef_[0]\n",
    "print('beta1',b1)"
   ]
  },
  {
   "cell_type": "code",
   "execution_count": 43,
   "id": "97b073cf",
   "metadata": {},
   "outputs": [
    {
     "ename": "SyntaxError",
     "evalue": "invalid syntax (377654213.py, line 1)",
     "output_type": "error",
     "traceback": [
      "\u001b[1;36m  Input \u001b[1;32mIn [43]\u001b[1;36m\u001b[0m\n\u001b[1;33m    Modelo:\u001b[0m\n\u001b[1;37m           ^\u001b[0m\n\u001b[1;31mSyntaxError\u001b[0m\u001b[1;31m:\u001b[0m invalid syntax\n"
     ]
    }
   ],
   "source": [
    "Modelo:\n",
    "    %%y = \\beta0 + \\beta1* "
   ]
  },
  {
   "cell_type": "markdown",
   "id": "a7fbb18e",
   "metadata": {},
   "source": [
    "### Predicciones del modelo"
   ]
  },
  {
   "cell_type": "code",
   "execution_count": 44,
   "id": "9eb2308d",
   "metadata": {},
   "outputs": [],
   "source": [
    "y_pred = modelo.predict(x)"
   ]
  },
  {
   "cell_type": "code",
   "execution_count": 46,
   "id": "ede3adf7",
   "metadata": {},
   "outputs": [
    {
     "data": {
      "text/plain": [
       "Text(0, 0.5, 'Valor Predicho')"
      ]
     },
     "execution_count": 46,
     "metadata": {},
     "output_type": "execute_result"
    },
    {
     "data": {
      "image/png": "[encoded data removed]",
      "text/plain": [
       "<Figure size 432x288 with 1 Axes>"
      ]
     },
     "metadata": {
      "needs_background": "light"
     },
     "output_type": "display_data"
    }
   ],
   "source": [
    "plt.scatter(y, y_pred)\n",
    "plt.xlabel('Valor Verdadero')\n",
    "plt.ylabel('Valor Predicho')"
   ]
  },
  {
   "cell_type": "code",
   "execution_count": null,
   "id": "5dd2458d",
   "metadata": {},
   "outputs": [],
   "source": []
  }
 ],
 "metadata": {
  "kernelspec": {
   "display_name": "Python 3 (ipykernel)",
   "language": "python",
   "name": "python3"
  },
  "language_info": {
   "codemirror_mode": {
    "name": "ipython",
    "version": 3
   },
   "file_extension": ".py",
   "mimetype": "text/x-python",
   "name": "python",
   "nbconvert_exporter": "python",
   "pygments_lexer": "ipython3",
   "version": "3.9.12"
  }
 },
 "nbformat": 4,
 "nbformat_minor": 5
}
