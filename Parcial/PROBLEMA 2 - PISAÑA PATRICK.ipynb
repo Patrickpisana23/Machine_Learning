{
 "cells": [
  {
   "cell_type": "markdown",
   "id": "e3f5ab41",
   "metadata": {},
   "source": [
    "### PISAÑA LLAMOCCA PATRICK FLORIAN - 19200093\n",
    "\n",
    "\n",
    "Información de atributos:\n",
    "\n",
    "a1 Temperatura del paciente {35C-42C}\n",
    "\n",
    "a2 Aparición de náuseas {sí, no}\n",
    "\n",
    "a3 Dolor lumbar {sí, no}\n",
    "\n",
    "a4 Empuje de orina (necesidad continua de orinar) {sí, no}\n",
    "\n",
    "a5 Dolores de micción {sí, no}\n",
    "\n",
    "a6 Ardor de uretra, picazón, hinchazón de la salida de la uretra {sí, no}\n",
    "\n",
    "Decisión d1: inflamación de la vejiga urinaria {sí, no}\n",
    "\n",
    "Decisión d2: Nefritis de origen en la pelvis renal {sí, no}\n",
    "\n",
    "En un notebook desarrolle un modelo o modelos que permita predecir la inflamación de vejiga urinaria y la nefritis. En \n",
    "cada caso debe colocar la forma en la que se recuperan los datos, análisis exploratorio de los datos, transformación \n",
    "de datos si fuera el caso, selección del conjunto de entrenamiento y prueba, evaluación del modelo o modelos \n",
    "desarrollados y conclusión sobre el mejor modelo elegido."
   ]
  },
  {
   "cell_type": "code",
   "execution_count": 272,
   "id": "c1a7b7e3",
   "metadata": {},
   "outputs": [],
   "source": [
    "import pandas as pd\n",
    "import seaborn as sns\n",
    "import matplotlib.pyplot as plt\n",
    "import numpy as np"
   ]
  },
  {
   "cell_type": "code",
   "execution_count": 276,
   "id": "880b834f",
   "metadata": {},
   "outputs": [],
   "source": [
    "datos = pd.read_csv('diagnosis.txt',names=['Temperature','Nausea','Lumbar pain','Urine pushing','Micturition pains','Burning of urethra','Inflammation','Nephritis'],delimiter='\t')"
   ]
  },
  {
   "cell_type": "code",
   "execution_count": 277,
   "id": "b3a39c45",
   "metadata": {},
   "outputs": [
    {
     "data": {
      "text/html": [
       "<div>\n",
       "<style scoped>\n",
       "    .dataframe tbody tr th:only-of-type {\n",
       "        vertical-align: middle;\n",
       "    }\n",
       "\n",
       "    .dataframe tbody tr th {\n",
       "        vertical-align: top;\n",
       "    }\n",
       "\n",
       "    .dataframe thead th {\n",
       "        text-align: right;\n",
       "    }\n",
       "</style>\n",
       "<table border=\"1\" class=\"dataframe\">\n",
       "  <thead>\n",
       "    <tr style=\"text-align: right;\">\n",
       "      <th></th>\n",
       "      <th>Temperature</th>\n",
       "      <th>Nausea</th>\n",
       "      <th>Lumbar pain</th>\n",
       "      <th>Urine pushing</th>\n",
       "      <th>Micturition pains</th>\n",
       "      <th>Burning of urethra</th>\n",
       "      <th>Inflammation</th>\n",
       "      <th>Nephritis</th>\n",
       "    </tr>\n",
       "  </thead>\n",
       "  <tbody>\n",
       "    <tr>\n",
       "      <th>0</th>\n",
       "      <td>35.5</td>\n",
       "      <td>no</td>\n",
       "      <td>yes</td>\n",
       "      <td>no</td>\n",
       "      <td>no</td>\n",
       "      <td>no</td>\n",
       "      <td>no</td>\n",
       "      <td>no</td>\n",
       "    </tr>\n",
       "    <tr>\n",
       "      <th>1</th>\n",
       "      <td>35.9</td>\n",
       "      <td>no</td>\n",
       "      <td>no</td>\n",
       "      <td>yes</td>\n",
       "      <td>yes</td>\n",
       "      <td>yes</td>\n",
       "      <td>yes</td>\n",
       "      <td>no</td>\n",
       "    </tr>\n",
       "    <tr>\n",
       "      <th>2</th>\n",
       "      <td>35.9</td>\n",
       "      <td>no</td>\n",
       "      <td>yes</td>\n",
       "      <td>no</td>\n",
       "      <td>no</td>\n",
       "      <td>no</td>\n",
       "      <td>no</td>\n",
       "      <td>no</td>\n",
       "    </tr>\n",
       "    <tr>\n",
       "      <th>3</th>\n",
       "      <td>36.0</td>\n",
       "      <td>no</td>\n",
       "      <td>no</td>\n",
       "      <td>yes</td>\n",
       "      <td>yes</td>\n",
       "      <td>yes</td>\n",
       "      <td>yes</td>\n",
       "      <td>no</td>\n",
       "    </tr>\n",
       "    <tr>\n",
       "      <th>4</th>\n",
       "      <td>36.0</td>\n",
       "      <td>no</td>\n",
       "      <td>yes</td>\n",
       "      <td>no</td>\n",
       "      <td>no</td>\n",
       "      <td>no</td>\n",
       "      <td>no</td>\n",
       "      <td>no</td>\n",
       "    </tr>\n",
       "  </tbody>\n",
       "</table>\n",
       "</div>"
      ],
      "text/plain": [
       "   Temperature Nausea Lumbar pain Urine pushing Micturition pains  \\\n",
       "0         35.5     no         yes            no                no   \n",
       "1         35.9     no          no           yes               yes   \n",
       "2         35.9     no         yes            no                no   \n",
       "3         36.0     no          no           yes               yes   \n",
       "4         36.0     no         yes            no                no   \n",
       "\n",
       "  Burning of urethra Inflammation Nephritis  \n",
       "0                 no           no        no  \n",
       "1                yes          yes        no  \n",
       "2                 no           no        no  \n",
       "3                yes          yes        no  \n",
       "4                 no           no        no  "
      ]
     },
     "execution_count": 277,
     "metadata": {},
     "output_type": "execute_result"
    }
   ],
   "source": [
    "datos.head()"
   ]
  },
  {
   "cell_type": "code",
   "execution_count": 278,
   "id": "869fa343",
   "metadata": {},
   "outputs": [
    {
     "data": {
      "text/html": [
       "<div>\n",
       "<style scoped>\n",
       "    .dataframe tbody tr th:only-of-type {\n",
       "        vertical-align: middle;\n",
       "    }\n",
       "\n",
       "    .dataframe tbody tr th {\n",
       "        vertical-align: top;\n",
       "    }\n",
       "\n",
       "    .dataframe thead th {\n",
       "        text-align: right;\n",
       "    }\n",
       "</style>\n",
       "<table border=\"1\" class=\"dataframe\">\n",
       "  <thead>\n",
       "    <tr style=\"text-align: right;\">\n",
       "      <th></th>\n",
       "      <th>Temperature</th>\n",
       "      <th>Nausea</th>\n",
       "      <th>Lumbar pain</th>\n",
       "      <th>Urine pushing</th>\n",
       "      <th>Micturition pains</th>\n",
       "      <th>Burning of urethra</th>\n",
       "      <th>Inflammation</th>\n",
       "      <th>Nephritis</th>\n",
       "    </tr>\n",
       "  </thead>\n",
       "  <tbody>\n",
       "    <tr>\n",
       "      <th>115</th>\n",
       "      <td>41.4</td>\n",
       "      <td>no</td>\n",
       "      <td>yes</td>\n",
       "      <td>yes</td>\n",
       "      <td>no</td>\n",
       "      <td>yes</td>\n",
       "      <td>no</td>\n",
       "      <td>yes</td>\n",
       "    </tr>\n",
       "    <tr>\n",
       "      <th>116</th>\n",
       "      <td>41.5</td>\n",
       "      <td>no</td>\n",
       "      <td>no</td>\n",
       "      <td>no</td>\n",
       "      <td>no</td>\n",
       "      <td>no</td>\n",
       "      <td>no</td>\n",
       "      <td>no</td>\n",
       "    </tr>\n",
       "    <tr>\n",
       "      <th>117</th>\n",
       "      <td>41.5</td>\n",
       "      <td>yes</td>\n",
       "      <td>yes</td>\n",
       "      <td>no</td>\n",
       "      <td>yes</td>\n",
       "      <td>no</td>\n",
       "      <td>no</td>\n",
       "      <td>yes</td>\n",
       "    </tr>\n",
       "    <tr>\n",
       "      <th>118</th>\n",
       "      <td>41.5</td>\n",
       "      <td>no</td>\n",
       "      <td>yes</td>\n",
       "      <td>yes</td>\n",
       "      <td>no</td>\n",
       "      <td>yes</td>\n",
       "      <td>no</td>\n",
       "      <td>yes</td>\n",
       "    </tr>\n",
       "    <tr>\n",
       "      <th>119</th>\n",
       "      <td>41.5</td>\n",
       "      <td>no</td>\n",
       "      <td>yes</td>\n",
       "      <td>yes</td>\n",
       "      <td>no</td>\n",
       "      <td>yes</td>\n",
       "      <td>no</td>\n",
       "      <td>yes</td>\n",
       "    </tr>\n",
       "  </tbody>\n",
       "</table>\n",
       "</div>"
      ],
      "text/plain": [
       "     Temperature Nausea Lumbar pain Urine pushing Micturition pains  \\\n",
       "115         41.4     no         yes           yes                no   \n",
       "116         41.5     no          no            no                no   \n",
       "117         41.5    yes         yes            no               yes   \n",
       "118         41.5     no         yes           yes                no   \n",
       "119         41.5     no         yes           yes                no   \n",
       "\n",
       "    Burning of urethra Inflammation Nephritis  \n",
       "115                yes           no       yes  \n",
       "116                 no           no        no  \n",
       "117                 no           no       yes  \n",
       "118                yes           no       yes  \n",
       "119                yes           no       yes  "
      ]
     },
     "execution_count": 278,
     "metadata": {},
     "output_type": "execute_result"
    }
   ],
   "source": [
    "datos.tail()"
   ]
  },
  {
   "cell_type": "code",
   "execution_count": 279,
   "id": "b5c4a7ac",
   "metadata": {},
   "outputs": [
    {
     "data": {
      "text/html": [
       "<div>\n",
       "<style scoped>\n",
       "    .dataframe tbody tr th:only-of-type {\n",
       "        vertical-align: middle;\n",
       "    }\n",
       "\n",
       "    .dataframe tbody tr th {\n",
       "        vertical-align: top;\n",
       "    }\n",
       "\n",
       "    .dataframe thead th {\n",
       "        text-align: right;\n",
       "    }\n",
       "</style>\n",
       "<table border=\"1\" class=\"dataframe\">\n",
       "  <thead>\n",
       "    <tr style=\"text-align: right;\">\n",
       "      <th></th>\n",
       "      <th>Temperature</th>\n",
       "    </tr>\n",
       "  </thead>\n",
       "  <tbody>\n",
       "    <tr>\n",
       "      <th>count</th>\n",
       "      <td>120.000000</td>\n",
       "    </tr>\n",
       "    <tr>\n",
       "      <th>mean</th>\n",
       "      <td>38.724167</td>\n",
       "    </tr>\n",
       "    <tr>\n",
       "      <th>std</th>\n",
       "      <td>1.819132</td>\n",
       "    </tr>\n",
       "    <tr>\n",
       "      <th>min</th>\n",
       "      <td>35.500000</td>\n",
       "    </tr>\n",
       "    <tr>\n",
       "      <th>25%</th>\n",
       "      <td>37.100000</td>\n",
       "    </tr>\n",
       "    <tr>\n",
       "      <th>50%</th>\n",
       "      <td>37.950000</td>\n",
       "    </tr>\n",
       "    <tr>\n",
       "      <th>75%</th>\n",
       "      <td>40.600000</td>\n",
       "    </tr>\n",
       "    <tr>\n",
       "      <th>max</th>\n",
       "      <td>41.500000</td>\n",
       "    </tr>\n",
       "  </tbody>\n",
       "</table>\n",
       "</div>"
      ],
      "text/plain": [
       "       Temperature\n",
       "count   120.000000\n",
       "mean     38.724167\n",
       "std       1.819132\n",
       "min      35.500000\n",
       "25%      37.100000\n",
       "50%      37.950000\n",
       "75%      40.600000\n",
       "max      41.500000"
      ]
     },
     "execution_count": 279,
     "metadata": {},
     "output_type": "execute_result"
    }
   ],
   "source": [
    "datos.describe()"
   ]
  },
  {
   "cell_type": "code",
   "execution_count": 280,
   "id": "75464641",
   "metadata": {},
   "outputs": [
    {
     "name": "stdout",
     "output_type": "stream",
     "text": [
      "<class 'pandas.core.frame.DataFrame'>\n",
      "RangeIndex: 120 entries, 0 to 119\n",
      "Data columns (total 8 columns):\n",
      " #   Column              Non-Null Count  Dtype  \n",
      "---  ------              --------------  -----  \n",
      " 0   Temperature         120 non-null    float64\n",
      " 1   Nausea              120 non-null    object \n",
      " 2   Lumbar pain         120 non-null    object \n",
      " 3   Urine pushing       120 non-null    object \n",
      " 4   Micturition pains   120 non-null    object \n",
      " 5   Burning of urethra  120 non-null    object \n",
      " 6   Inflammation        120 non-null    object \n",
      " 7   Nephritis           120 non-null    object \n",
      "dtypes: float64(1), object(7)\n",
      "memory usage: 7.6+ KB\n"
     ]
    }
   ],
   "source": [
    "datos.info()"
   ]
  },
  {
   "cell_type": "markdown",
   "id": "d39fecc1",
   "metadata": {},
   "source": [
    "# ANALISIS EXPLORATORIO DE DATOS"
   ]
  },
  {
   "cell_type": "code",
   "execution_count": 281,
   "id": "b2582a92",
   "metadata": {},
   "outputs": [
    {
     "data": {
      "text/plain": [
       "<AxesSubplot:xlabel='Urine pushing', ylabel='count'>"
      ]
     },
     "execution_count": 281,
     "metadata": {},
     "output_type": "execute_result"
    },
    {
     "data": {
      "image/png": "[encoded data removed]",
      "text/plain": [
       "<Figure size 432x288 with 1 Axes>"
      ]
     },
     "metadata": {
      "needs_background": "light"
     },
     "output_type": "display_data"
    }
   ],
   "source": [
    "sns.countplot(x='Urine pushing',data=datos)"
   ]
  },
  {
   "cell_type": "code",
   "execution_count": 282,
   "id": "4975665e",
   "metadata": {},
   "outputs": [
    {
     "data": {
      "text/plain": [
       "<AxesSubplot:xlabel='Inflammation', ylabel='count'>"
      ]
     },
     "execution_count": 282,
     "metadata": {},
     "output_type": "execute_result"
    },
    {
     "data": {
      "image/png": "[encoded data removed]",
      "text/plain": [
       "<Figure size 432x288 with 1 Axes>"
      ]
     },
     "metadata": {
      "needs_background": "light"
     },
     "output_type": "display_data"
    }
   ],
   "source": [
    "sns.countplot(x='Inflammation',data=datos)"
   ]
  },
  {
   "cell_type": "code",
   "execution_count": 283,
   "id": "fb64a7d4",
   "metadata": {},
   "outputs": [
    {
     "data": {
      "text/plain": [
       "<AxesSubplot:xlabel='Nephritis', ylabel='count'>"
      ]
     },
     "execution_count": 283,
     "metadata": {},
     "output_type": "execute_result"
    },
    {
     "data": {
      "image/png": "[encoded data removed]",
      "text/plain": [
       "<Figure size 432x288 with 1 Axes>"
      ]
     },
     "metadata": {
      "needs_background": "light"
     },
     "output_type": "display_data"
    }
   ],
   "source": [
    "sns.countplot(x='Nephritis',data=datos)"
   ]
  },
  {
   "cell_type": "code",
   "execution_count": 284,
   "id": "939c3f88",
   "metadata": {},
   "outputs": [
    {
     "data": {
      "text/plain": [
       "<AxesSubplot:xlabel='Urine pushing', ylabel='count'>"
      ]
     },
     "execution_count": 284,
     "metadata": {},
     "output_type": "execute_result"
    },
    {
     "data": {
      "image/png": "[encoded data removed]",
      "text/plain": [
       "<Figure size 432x288 with 1 Axes>"
      ]
     },
     "metadata": {
      "needs_background": "light"
     },
     "output_type": "display_data"
    }
   ],
   "source": [
    "sns.countplot(x='Urine pushing',hue='Nephritis',data=datos,palette='RdBu_r')"
   ]
  },
  {
   "cell_type": "code",
   "execution_count": 285,
   "id": "f01aafe6",
   "metadata": {},
   "outputs": [
    {
     "data": {
      "text/plain": [
       "<seaborn.axisgrid.FacetGrid at 0x13f8fd0bf10>"
      ]
     },
     "execution_count": 285,
     "metadata": {},
     "output_type": "execute_result"
    },
    {
     "data": {
      "image/png": "[encoded data removed]",
      "text/plain": [
       "<Figure size 1440x1440 with 1 Axes>"
      ]
     },
     "metadata": {
      "needs_background": "light"
     },
     "output_type": "display_data"
    }
   ],
   "source": [
    "sns.displot(datos['Temperature'],bins=50,kde=True, height=20, color='green')"
   ]
  },
  {
   "cell_type": "code",
   "execution_count": 40,
   "id": "d5bea284",
   "metadata": {},
   "outputs": [
    {
     "data": {
      "text/plain": [
       "<AxesSubplot:>"
      ]
     },
     "execution_count": 40,
     "metadata": {},
     "output_type": "execute_result"
    },
    {
     "data": {
      "image/png": "[encoded data removed]",
      "text/plain": [
       "<Figure size 1440x720 with 1 Axes>"
      ]
     },
     "metadata": {
      "needs_background": "light"
     },
     "output_type": "display_data"
    }
   ],
   "source": [
    "datos['Temperature'].hist(bins=30,color='green',alpha=0.7,figsize=(20,10))"
   ]
  },
  {
   "cell_type": "markdown",
   "id": "b958c92c",
   "metadata": {},
   "source": [
    "## Conversión de características categóricas\n",
    "¡Necesitamos convertir características categóricas a variables dummy usando pandas! De lo\n",
    "contrario, nuestro algoritmo de aprendizaje automático no podrá tomar directamente esas\n",
    "características como entradas"
   ]
  },
  {
   "cell_type": "code",
   "execution_count": 286,
   "id": "c4c24929",
   "metadata": {},
   "outputs": [
    {
     "name": "stdout",
     "output_type": "stream",
     "text": [
      "<class 'pandas.core.frame.DataFrame'>\n",
      "RangeIndex: 120 entries, 0 to 119\n",
      "Data columns (total 8 columns):\n",
      " #   Column              Non-Null Count  Dtype  \n",
      "---  ------              --------------  -----  \n",
      " 0   Temperature         120 non-null    float64\n",
      " 1   Nausea              120 non-null    object \n",
      " 2   Lumbar pain         120 non-null    object \n",
      " 3   Urine pushing       120 non-null    object \n",
      " 4   Micturition pains   120 non-null    object \n",
      " 5   Burning of urethra  120 non-null    object \n",
      " 6   Inflammation        120 non-null    object \n",
      " 7   Nephritis           120 non-null    object \n",
      "dtypes: float64(1), object(7)\n",
      "memory usage: 7.6+ KB\n"
     ]
    }
   ],
   "source": [
    "datos.info()"
   ]
  },
  {
   "cell_type": "code",
   "execution_count": 287,
   "id": "f17c473d",
   "metadata": {},
   "outputs": [
    {
     "data": {
      "text/html": [
       "<div>\n",
       "<style scoped>\n",
       "    .dataframe tbody tr th:only-of-type {\n",
       "        vertical-align: middle;\n",
       "    }\n",
       "\n",
       "    .dataframe tbody tr th {\n",
       "        vertical-align: top;\n",
       "    }\n",
       "\n",
       "    .dataframe thead th {\n",
       "        text-align: right;\n",
       "    }\n",
       "</style>\n",
       "<table border=\"1\" class=\"dataframe\">\n",
       "  <thead>\n",
       "    <tr style=\"text-align: right;\">\n",
       "      <th></th>\n",
       "      <th>Temperature</th>\n",
       "      <th>Nausea</th>\n",
       "      <th>Lumbar pain</th>\n",
       "      <th>Urine pushing</th>\n",
       "      <th>Micturition pains</th>\n",
       "      <th>Burning of urethra</th>\n",
       "      <th>Inflammation</th>\n",
       "      <th>Nephritis</th>\n",
       "    </tr>\n",
       "  </thead>\n",
       "  <tbody>\n",
       "    <tr>\n",
       "      <th>0</th>\n",
       "      <td>35.5</td>\n",
       "      <td>no</td>\n",
       "      <td>yes</td>\n",
       "      <td>no</td>\n",
       "      <td>no</td>\n",
       "      <td>no</td>\n",
       "      <td>no</td>\n",
       "      <td>no</td>\n",
       "    </tr>\n",
       "    <tr>\n",
       "      <th>1</th>\n",
       "      <td>35.9</td>\n",
       "      <td>no</td>\n",
       "      <td>no</td>\n",
       "      <td>yes</td>\n",
       "      <td>yes</td>\n",
       "      <td>yes</td>\n",
       "      <td>yes</td>\n",
       "      <td>no</td>\n",
       "    </tr>\n",
       "    <tr>\n",
       "      <th>2</th>\n",
       "      <td>35.9</td>\n",
       "      <td>no</td>\n",
       "      <td>yes</td>\n",
       "      <td>no</td>\n",
       "      <td>no</td>\n",
       "      <td>no</td>\n",
       "      <td>no</td>\n",
       "      <td>no</td>\n",
       "    </tr>\n",
       "    <tr>\n",
       "      <th>3</th>\n",
       "      <td>36.0</td>\n",
       "      <td>no</td>\n",
       "      <td>no</td>\n",
       "      <td>yes</td>\n",
       "      <td>yes</td>\n",
       "      <td>yes</td>\n",
       "      <td>yes</td>\n",
       "      <td>no</td>\n",
       "    </tr>\n",
       "    <tr>\n",
       "      <th>4</th>\n",
       "      <td>36.0</td>\n",
       "      <td>no</td>\n",
       "      <td>yes</td>\n",
       "      <td>no</td>\n",
       "      <td>no</td>\n",
       "      <td>no</td>\n",
       "      <td>no</td>\n",
       "      <td>no</td>\n",
       "    </tr>\n",
       "  </tbody>\n",
       "</table>\n",
       "</div>"
      ],
      "text/plain": [
       "   Temperature Nausea Lumbar pain Urine pushing Micturition pains  \\\n",
       "0         35.5     no         yes            no                no   \n",
       "1         35.9     no          no           yes               yes   \n",
       "2         35.9     no         yes            no                no   \n",
       "3         36.0     no          no           yes               yes   \n",
       "4         36.0     no         yes            no                no   \n",
       "\n",
       "  Burning of urethra Inflammation Nephritis  \n",
       "0                 no           no        no  \n",
       "1                yes          yes        no  \n",
       "2                 no           no        no  \n",
       "3                yes          yes        no  \n",
       "4                 no           no        no  "
      ]
     },
     "execution_count": 287,
     "metadata": {},
     "output_type": "execute_result"
    }
   ],
   "source": [
    "datos.head()"
   ]
  },
  {
   "cell_type": "code",
   "execution_count": 288,
   "id": "3bda190d",
   "metadata": {},
   "outputs": [
    {
     "data": {
      "text/plain": [
       "array(['no', 'yes'], dtype=object)"
      ]
     },
     "execution_count": 288,
     "metadata": {},
     "output_type": "execute_result"
    }
   ],
   "source": [
    "datos['Nausea'].unique()"
   ]
  },
  {
   "cell_type": "code",
   "execution_count": 289,
   "id": "4ac0509c",
   "metadata": {},
   "outputs": [
    {
     "data": {
      "text/plain": [
       "array(['yes', 'no'], dtype=object)"
      ]
     },
     "execution_count": 289,
     "metadata": {},
     "output_type": "execute_result"
    }
   ],
   "source": [
    "datos['Lumbar pain'].unique()"
   ]
  },
  {
   "cell_type": "code",
   "execution_count": 290,
   "id": "e8a904b7",
   "metadata": {},
   "outputs": [
    {
     "data": {
      "text/plain": [
       "array(['no', 'yes'], dtype=object)"
      ]
     },
     "execution_count": 290,
     "metadata": {},
     "output_type": "execute_result"
    }
   ],
   "source": [
    "datos['Urine pushing'].unique()"
   ]
  },
  {
   "cell_type": "code",
   "execution_count": 291,
   "id": "683a82dd",
   "metadata": {},
   "outputs": [
    {
     "data": {
      "text/plain": [
       "array(['no', 'yes'], dtype=object)"
      ]
     },
     "execution_count": 291,
     "metadata": {},
     "output_type": "execute_result"
    }
   ],
   "source": [
    "datos['Micturition pains'].unique()"
   ]
  },
  {
   "cell_type": "code",
   "execution_count": 292,
   "id": "69fe8090",
   "metadata": {},
   "outputs": [
    {
     "data": {
      "text/plain": [
       "array(['no', 'yes'], dtype=object)"
      ]
     },
     "execution_count": 292,
     "metadata": {},
     "output_type": "execute_result"
    }
   ],
   "source": [
    "datos['Burning of urethra'].unique()"
   ]
  },
  {
   "cell_type": "code",
   "execution_count": 293,
   "id": "30938e29",
   "metadata": {},
   "outputs": [
    {
     "data": {
      "text/plain": [
       "array(['no', 'yes'], dtype=object)"
      ]
     },
     "execution_count": 293,
     "metadata": {},
     "output_type": "execute_result"
    }
   ],
   "source": [
    "datos['Inflammation'].unique()"
   ]
  },
  {
   "cell_type": "code",
   "execution_count": 294,
   "id": "73d62b59",
   "metadata": {},
   "outputs": [
    {
     "data": {
      "text/plain": [
       "array(['no', 'yes'], dtype=object)"
      ]
     },
     "execution_count": 294,
     "metadata": {},
     "output_type": "execute_result"
    }
   ],
   "source": [
    "datos['Nephritis'].unique() "
   ]
  },
  {
   "cell_type": "markdown",
   "id": "8561eec4",
   "metadata": {},
   "source": [
    "## Dataframes con las variables dummy"
   ]
  },
  {
   "cell_type": "code",
   "execution_count": 295,
   "id": "177e8272",
   "metadata": {},
   "outputs": [
    {
     "name": "stdout",
     "output_type": "stream",
     "text": [
      "     Nausea\n",
      "0         0\n",
      "1         0\n",
      "2         0\n",
      "3         0\n",
      "4         0\n",
      "..      ...\n",
      "115       0\n",
      "116       0\n",
      "117       1\n",
      "118       0\n",
      "119       0\n",
      "\n",
      "[120 rows x 1 columns]\n"
     ]
    }
   ],
   "source": [
    "Nausea = pd.get_dummies(datos['Nausea'],drop_first=True)\n",
    "Nausea.set_axis(['Nausea'], axis='columns', inplace=True)\n",
    "print(Nausea)"
   ]
  },
  {
   "cell_type": "code",
   "execution_count": 296,
   "id": "4f4423c2",
   "metadata": {},
   "outputs": [
    {
     "name": "stdout",
     "output_type": "stream",
     "text": [
      "     Lumbar pain\n",
      "0              1\n",
      "1              0\n",
      "2              1\n",
      "3              0\n",
      "4              1\n",
      "..           ...\n",
      "115            1\n",
      "116            0\n",
      "117            1\n",
      "118            1\n",
      "119            1\n",
      "\n",
      "[120 rows x 1 columns]\n"
     ]
    }
   ],
   "source": [
    "Lumbar_pain = pd.get_dummies(datos['Lumbar pain'],drop_first=True)\n",
    "Lumbar_pain.set_axis(['Lumbar pain'], axis='columns', inplace=True)\n",
    "print(Lumbar_pain)"
   ]
  },
  {
   "cell_type": "code",
   "execution_count": 297,
   "id": "5307dec3",
   "metadata": {},
   "outputs": [
    {
     "name": "stdout",
     "output_type": "stream",
     "text": [
      "     Urine pushing\n",
      "0                0\n",
      "1                1\n",
      "2                0\n",
      "3                1\n",
      "4                0\n",
      "..             ...\n",
      "115              1\n",
      "116              0\n",
      "117              0\n",
      "118              1\n",
      "119              1\n",
      "\n",
      "[120 rows x 1 columns]\n"
     ]
    }
   ],
   "source": [
    "Urine_pushing = pd.get_dummies(datos['Urine pushing'],drop_first=True)\n",
    "Urine_pushing.set_axis(['Urine pushing'], axis='columns', inplace=True)\n",
    "print(Urine_pushing)"
   ]
  },
  {
   "cell_type": "code",
   "execution_count": 298,
   "id": "df360a6a",
   "metadata": {},
   "outputs": [
    {
     "name": "stdout",
     "output_type": "stream",
     "text": [
      "     Micturition pains\n",
      "0                    0\n",
      "1                    1\n",
      "2                    0\n",
      "3                    1\n",
      "4                    0\n",
      "..                 ...\n",
      "115                  0\n",
      "116                  0\n",
      "117                  1\n",
      "118                  0\n",
      "119                  0\n",
      "\n",
      "[120 rows x 1 columns]\n"
     ]
    }
   ],
   "source": [
    "Micturition_pains = pd.get_dummies(datos['Micturition pains'],drop_first=True)\n",
    "Micturition_pains.set_axis(['Micturition pains'], axis='columns', inplace=True)\n",
    "print(Micturition_pains)"
   ]
  },
  {
   "cell_type": "code",
   "execution_count": 299,
   "id": "0c2a501d",
   "metadata": {},
   "outputs": [
    {
     "name": "stdout",
     "output_type": "stream",
     "text": [
      "     Burning of urethra\n",
      "0                     0\n",
      "1                     1\n",
      "2                     0\n",
      "3                     1\n",
      "4                     0\n",
      "..                  ...\n",
      "115                   1\n",
      "116                   0\n",
      "117                   0\n",
      "118                   1\n",
      "119                   1\n",
      "\n",
      "[120 rows x 1 columns]\n"
     ]
    }
   ],
   "source": [
    "Burning_of_urethra = pd.get_dummies(datos['Burning of urethra'],drop_first=True)\n",
    "Burning_of_urethra.set_axis(['Burning of urethra'], axis='columns', inplace=True)\n",
    "print(Burning_of_urethra)"
   ]
  },
  {
   "cell_type": "code",
   "execution_count": 300,
   "id": "36976d2e",
   "metadata": {},
   "outputs": [
    {
     "name": "stdout",
     "output_type": "stream",
     "text": [
      "     Inflammation\n",
      "0               0\n",
      "1               1\n",
      "2               0\n",
      "3               1\n",
      "4               0\n",
      "..            ...\n",
      "115             0\n",
      "116             0\n",
      "117             0\n",
      "118             0\n",
      "119             0\n",
      "\n",
      "[120 rows x 1 columns]\n"
     ]
    }
   ],
   "source": [
    "Inflammation = pd.get_dummies(datos['Inflammation'],drop_first=True)\n",
    "Inflammation.set_axis(['Inflammation'], axis='columns', inplace=True)\n",
    "print(Inflammation)"
   ]
  },
  {
   "cell_type": "code",
   "execution_count": 301,
   "id": "686e48e4",
   "metadata": {},
   "outputs": [
    {
     "name": "stdout",
     "output_type": "stream",
     "text": [
      "     Nephritis\n",
      "0            0\n",
      "1            0\n",
      "2            0\n",
      "3            0\n",
      "4            0\n",
      "..         ...\n",
      "115          1\n",
      "116          0\n",
      "117          1\n",
      "118          1\n",
      "119          1\n",
      "\n",
      "[120 rows x 1 columns]\n"
     ]
    }
   ],
   "source": [
    "Nephritis = pd.get_dummies(datos['Nephritis'],drop_first=True)\n",
    "Nephritis.set_axis(['Nephritis'], axis='columns', inplace=True)\n",
    "print(Nephritis)"
   ]
  },
  {
   "cell_type": "code",
   "execution_count": 302,
   "id": "a6c2e674",
   "metadata": {},
   "outputs": [
    {
     "data": {
      "text/html": [
       "<div>\n",
       "<style scoped>\n",
       "    .dataframe tbody tr th:only-of-type {\n",
       "        vertical-align: middle;\n",
       "    }\n",
       "\n",
       "    .dataframe tbody tr th {\n",
       "        vertical-align: top;\n",
       "    }\n",
       "\n",
       "    .dataframe thead th {\n",
       "        text-align: right;\n",
       "    }\n",
       "</style>\n",
       "<table border=\"1\" class=\"dataframe\">\n",
       "  <thead>\n",
       "    <tr style=\"text-align: right;\">\n",
       "      <th></th>\n",
       "      <th>Temperature</th>\n",
       "      <th>Nausea</th>\n",
       "      <th>Lumbar pain</th>\n",
       "      <th>Urine pushing</th>\n",
       "      <th>Micturition pains</th>\n",
       "      <th>Burning of urethra</th>\n",
       "      <th>Inflammation</th>\n",
       "      <th>Nephritis</th>\n",
       "    </tr>\n",
       "  </thead>\n",
       "  <tbody>\n",
       "    <tr>\n",
       "      <th>0</th>\n",
       "      <td>35.5</td>\n",
       "      <td>no</td>\n",
       "      <td>yes</td>\n",
       "      <td>no</td>\n",
       "      <td>no</td>\n",
       "      <td>no</td>\n",
       "      <td>no</td>\n",
       "      <td>no</td>\n",
       "    </tr>\n",
       "    <tr>\n",
       "      <th>1</th>\n",
       "      <td>35.9</td>\n",
       "      <td>no</td>\n",
       "      <td>no</td>\n",
       "      <td>yes</td>\n",
       "      <td>yes</td>\n",
       "      <td>yes</td>\n",
       "      <td>yes</td>\n",
       "      <td>no</td>\n",
       "    </tr>\n",
       "    <tr>\n",
       "      <th>2</th>\n",
       "      <td>35.9</td>\n",
       "      <td>no</td>\n",
       "      <td>yes</td>\n",
       "      <td>no</td>\n",
       "      <td>no</td>\n",
       "      <td>no</td>\n",
       "      <td>no</td>\n",
       "      <td>no</td>\n",
       "    </tr>\n",
       "    <tr>\n",
       "      <th>3</th>\n",
       "      <td>36.0</td>\n",
       "      <td>no</td>\n",
       "      <td>no</td>\n",
       "      <td>yes</td>\n",
       "      <td>yes</td>\n",
       "      <td>yes</td>\n",
       "      <td>yes</td>\n",
       "      <td>no</td>\n",
       "    </tr>\n",
       "    <tr>\n",
       "      <th>4</th>\n",
       "      <td>36.0</td>\n",
       "      <td>no</td>\n",
       "      <td>yes</td>\n",
       "      <td>no</td>\n",
       "      <td>no</td>\n",
       "      <td>no</td>\n",
       "      <td>no</td>\n",
       "      <td>no</td>\n",
       "    </tr>\n",
       "  </tbody>\n",
       "</table>\n",
       "</div>"
      ],
      "text/plain": [
       "   Temperature Nausea Lumbar pain Urine pushing Micturition pains  \\\n",
       "0         35.5     no         yes            no                no   \n",
       "1         35.9     no          no           yes               yes   \n",
       "2         35.9     no         yes            no                no   \n",
       "3         36.0     no          no           yes               yes   \n",
       "4         36.0     no         yes            no                no   \n",
       "\n",
       "  Burning of urethra Inflammation Nephritis  \n",
       "0                 no           no        no  \n",
       "1                yes          yes        no  \n",
       "2                 no           no        no  \n",
       "3                yes          yes        no  \n",
       "4                 no           no        no  "
      ]
     },
     "execution_count": 302,
     "metadata": {},
     "output_type": "execute_result"
    }
   ],
   "source": [
    "datos.head()"
   ]
  },
  {
   "cell_type": "markdown",
   "id": "05394268",
   "metadata": {},
   "source": [
    "### eliminamos las columnas que serán reemplazadas por las variables dummy y aquellas que consideramos importantes para la prediccion"
   ]
  },
  {
   "cell_type": "code",
   "execution_count": 303,
   "id": "0d39eb72",
   "metadata": {},
   "outputs": [],
   "source": [
    "datos.drop(['Nausea','Lumbar pain','Urine pushing','Micturition pains','Burning of urethra','Inflammation','Nephritis'],axis=1,inplace=True)"
   ]
  },
  {
   "cell_type": "code",
   "execution_count": 304,
   "id": "ecb5e3f6",
   "metadata": {},
   "outputs": [
    {
     "data": {
      "text/html": [
       "<div>\n",
       "<style scoped>\n",
       "    .dataframe tbody tr th:only-of-type {\n",
       "        vertical-align: middle;\n",
       "    }\n",
       "\n",
       "    .dataframe tbody tr th {\n",
       "        vertical-align: top;\n",
       "    }\n",
       "\n",
       "    .dataframe thead th {\n",
       "        text-align: right;\n",
       "    }\n",
       "</style>\n",
       "<table border=\"1\" class=\"dataframe\">\n",
       "  <thead>\n",
       "    <tr style=\"text-align: right;\">\n",
       "      <th></th>\n",
       "      <th>Temperature</th>\n",
       "    </tr>\n",
       "  </thead>\n",
       "  <tbody>\n",
       "    <tr>\n",
       "      <th>0</th>\n",
       "      <td>35.5</td>\n",
       "    </tr>\n",
       "    <tr>\n",
       "      <th>1</th>\n",
       "      <td>35.9</td>\n",
       "    </tr>\n",
       "    <tr>\n",
       "      <th>2</th>\n",
       "      <td>35.9</td>\n",
       "    </tr>\n",
       "    <tr>\n",
       "      <th>3</th>\n",
       "      <td>36.0</td>\n",
       "    </tr>\n",
       "    <tr>\n",
       "      <th>4</th>\n",
       "      <td>36.0</td>\n",
       "    </tr>\n",
       "  </tbody>\n",
       "</table>\n",
       "</div>"
      ],
      "text/plain": [
       "   Temperature\n",
       "0         35.5\n",
       "1         35.9\n",
       "2         35.9\n",
       "3         36.0\n",
       "4         36.0"
      ]
     },
     "execution_count": 304,
     "metadata": {},
     "output_type": "execute_result"
    }
   ],
   "source": [
    "datos.head()"
   ]
  },
  {
   "cell_type": "markdown",
   "id": "0f926123",
   "metadata": {},
   "source": [
    "## Se unen los dataframe con \"concat\"\n"
   ]
  },
  {
   "cell_type": "code",
   "execution_count": 305,
   "id": "0c947f5c",
   "metadata": {},
   "outputs": [],
   "source": [
    "datos = pd.concat([datos,Nausea,Lumbar_pain,Urine_pushing,Micturition_pains,Burning_of_urethra,Inflammation,Nephritis],axis=1)"
   ]
  },
  {
   "cell_type": "code",
   "execution_count": 306,
   "id": "168a59d1",
   "metadata": {},
   "outputs": [
    {
     "data": {
      "text/html": [
       "<div>\n",
       "<style scoped>\n",
       "    .dataframe tbody tr th:only-of-type {\n",
       "        vertical-align: middle;\n",
       "    }\n",
       "\n",
       "    .dataframe tbody tr th {\n",
       "        vertical-align: top;\n",
       "    }\n",
       "\n",
       "    .dataframe thead th {\n",
       "        text-align: right;\n",
       "    }\n",
       "</style>\n",
       "<table border=\"1\" class=\"dataframe\">\n",
       "  <thead>\n",
       "    <tr style=\"text-align: right;\">\n",
       "      <th></th>\n",
       "      <th>Temperature</th>\n",
       "      <th>Nausea</th>\n",
       "      <th>Lumbar pain</th>\n",
       "      <th>Urine pushing</th>\n",
       "      <th>Micturition pains</th>\n",
       "      <th>Burning of urethra</th>\n",
       "      <th>Inflammation</th>\n",
       "      <th>Nephritis</th>\n",
       "    </tr>\n",
       "  </thead>\n",
       "  <tbody>\n",
       "    <tr>\n",
       "      <th>0</th>\n",
       "      <td>35.5</td>\n",
       "      <td>0</td>\n",
       "      <td>1</td>\n",
       "      <td>0</td>\n",
       "      <td>0</td>\n",
       "      <td>0</td>\n",
       "      <td>0</td>\n",
       "      <td>0</td>\n",
       "    </tr>\n",
       "    <tr>\n",
       "      <th>1</th>\n",
       "      <td>35.9</td>\n",
       "      <td>0</td>\n",
       "      <td>0</td>\n",
       "      <td>1</td>\n",
       "      <td>1</td>\n",
       "      <td>1</td>\n",
       "      <td>1</td>\n",
       "      <td>0</td>\n",
       "    </tr>\n",
       "    <tr>\n",
       "      <th>2</th>\n",
       "      <td>35.9</td>\n",
       "      <td>0</td>\n",
       "      <td>1</td>\n",
       "      <td>0</td>\n",
       "      <td>0</td>\n",
       "      <td>0</td>\n",
       "      <td>0</td>\n",
       "      <td>0</td>\n",
       "    </tr>\n",
       "    <tr>\n",
       "      <th>3</th>\n",
       "      <td>36.0</td>\n",
       "      <td>0</td>\n",
       "      <td>0</td>\n",
       "      <td>1</td>\n",
       "      <td>1</td>\n",
       "      <td>1</td>\n",
       "      <td>1</td>\n",
       "      <td>0</td>\n",
       "    </tr>\n",
       "    <tr>\n",
       "      <th>4</th>\n",
       "      <td>36.0</td>\n",
       "      <td>0</td>\n",
       "      <td>1</td>\n",
       "      <td>0</td>\n",
       "      <td>0</td>\n",
       "      <td>0</td>\n",
       "      <td>0</td>\n",
       "      <td>0</td>\n",
       "    </tr>\n",
       "    <tr>\n",
       "      <th>5</th>\n",
       "      <td>36.0</td>\n",
       "      <td>0</td>\n",
       "      <td>1</td>\n",
       "      <td>0</td>\n",
       "      <td>0</td>\n",
       "      <td>0</td>\n",
       "      <td>0</td>\n",
       "      <td>0</td>\n",
       "    </tr>\n",
       "    <tr>\n",
       "      <th>6</th>\n",
       "      <td>36.2</td>\n",
       "      <td>0</td>\n",
       "      <td>0</td>\n",
       "      <td>1</td>\n",
       "      <td>1</td>\n",
       "      <td>1</td>\n",
       "      <td>1</td>\n",
       "      <td>0</td>\n",
       "    </tr>\n",
       "    <tr>\n",
       "      <th>7</th>\n",
       "      <td>36.2</td>\n",
       "      <td>0</td>\n",
       "      <td>1</td>\n",
       "      <td>0</td>\n",
       "      <td>0</td>\n",
       "      <td>0</td>\n",
       "      <td>0</td>\n",
       "      <td>0</td>\n",
       "    </tr>\n",
       "    <tr>\n",
       "      <th>8</th>\n",
       "      <td>36.3</td>\n",
       "      <td>0</td>\n",
       "      <td>0</td>\n",
       "      <td>1</td>\n",
       "      <td>1</td>\n",
       "      <td>1</td>\n",
       "      <td>1</td>\n",
       "      <td>0</td>\n",
       "    </tr>\n",
       "    <tr>\n",
       "      <th>9</th>\n",
       "      <td>36.6</td>\n",
       "      <td>0</td>\n",
       "      <td>0</td>\n",
       "      <td>1</td>\n",
       "      <td>1</td>\n",
       "      <td>1</td>\n",
       "      <td>1</td>\n",
       "      <td>0</td>\n",
       "    </tr>\n",
       "    <tr>\n",
       "      <th>10</th>\n",
       "      <td>36.6</td>\n",
       "      <td>0</td>\n",
       "      <td>0</td>\n",
       "      <td>1</td>\n",
       "      <td>1</td>\n",
       "      <td>1</td>\n",
       "      <td>1</td>\n",
       "      <td>0</td>\n",
       "    </tr>\n",
       "    <tr>\n",
       "      <th>11</th>\n",
       "      <td>36.6</td>\n",
       "      <td>0</td>\n",
       "      <td>1</td>\n",
       "      <td>0</td>\n",
       "      <td>0</td>\n",
       "      <td>0</td>\n",
       "      <td>0</td>\n",
       "      <td>0</td>\n",
       "    </tr>\n",
       "    <tr>\n",
       "      <th>12</th>\n",
       "      <td>36.6</td>\n",
       "      <td>0</td>\n",
       "      <td>1</td>\n",
       "      <td>0</td>\n",
       "      <td>0</td>\n",
       "      <td>0</td>\n",
       "      <td>0</td>\n",
       "      <td>0</td>\n",
       "    </tr>\n",
       "    <tr>\n",
       "      <th>13</th>\n",
       "      <td>36.7</td>\n",
       "      <td>0</td>\n",
       "      <td>0</td>\n",
       "      <td>1</td>\n",
       "      <td>1</td>\n",
       "      <td>1</td>\n",
       "      <td>1</td>\n",
       "      <td>0</td>\n",
       "    </tr>\n",
       "    <tr>\n",
       "      <th>14</th>\n",
       "      <td>36.7</td>\n",
       "      <td>0</td>\n",
       "      <td>1</td>\n",
       "      <td>0</td>\n",
       "      <td>0</td>\n",
       "      <td>0</td>\n",
       "      <td>0</td>\n",
       "      <td>0</td>\n",
       "    </tr>\n",
       "  </tbody>\n",
       "</table>\n",
       "</div>"
      ],
      "text/plain": [
       "    Temperature  Nausea  Lumbar pain  Urine pushing  Micturition pains  \\\n",
       "0          35.5       0            1              0                  0   \n",
       "1          35.9       0            0              1                  1   \n",
       "2          35.9       0            1              0                  0   \n",
       "3          36.0       0            0              1                  1   \n",
       "4          36.0       0            1              0                  0   \n",
       "5          36.0       0            1              0                  0   \n",
       "6          36.2       0            0              1                  1   \n",
       "7          36.2       0            1              0                  0   \n",
       "8          36.3       0            0              1                  1   \n",
       "9          36.6       0            0              1                  1   \n",
       "10         36.6       0            0              1                  1   \n",
       "11         36.6       0            1              0                  0   \n",
       "12         36.6       0            1              0                  0   \n",
       "13         36.7       0            0              1                  1   \n",
       "14         36.7       0            1              0                  0   \n",
       "\n",
       "    Burning of urethra  Inflammation  Nephritis  \n",
       "0                    0             0          0  \n",
       "1                    1             1          0  \n",
       "2                    0             0          0  \n",
       "3                    1             1          0  \n",
       "4                    0             0          0  \n",
       "5                    0             0          0  \n",
       "6                    1             1          0  \n",
       "7                    0             0          0  \n",
       "8                    1             1          0  \n",
       "9                    1             1          0  \n",
       "10                   1             1          0  \n",
       "11                   0             0          0  \n",
       "12                   0             0          0  \n",
       "13                   1             1          0  \n",
       "14                   0             0          0  "
      ]
     },
     "execution_count": 306,
     "metadata": {},
     "output_type": "execute_result"
    }
   ],
   "source": [
    "datos.head(15)"
   ]
  },
  {
   "cell_type": "code",
   "execution_count": 307,
   "id": "3d1a8056",
   "metadata": {},
   "outputs": [
    {
     "name": "stdout",
     "output_type": "stream",
     "text": [
      "<class 'pandas.core.frame.DataFrame'>\n",
      "RangeIndex: 120 entries, 0 to 119\n",
      "Data columns (total 8 columns):\n",
      " #   Column              Non-Null Count  Dtype  \n",
      "---  ------              --------------  -----  \n",
      " 0   Temperature         120 non-null    float64\n",
      " 1   Nausea              120 non-null    uint8  \n",
      " 2   Lumbar pain         120 non-null    uint8  \n",
      " 3   Urine pushing       120 non-null    uint8  \n",
      " 4   Micturition pains   120 non-null    uint8  \n",
      " 5   Burning of urethra  120 non-null    uint8  \n",
      " 6   Inflammation        120 non-null    uint8  \n",
      " 7   Nephritis           120 non-null    uint8  \n",
      "dtypes: float64(1), uint8(7)\n",
      "memory usage: 1.9 KB\n"
     ]
    }
   ],
   "source": [
    "datos.info()"
   ]
  },
  {
   "cell_type": "code",
   "execution_count": 308,
   "id": "b5ea70a4",
   "metadata": {},
   "outputs": [
    {
     "data": {
      "text/plain": [
       "<seaborn.axisgrid.PairGrid at 0x13f8fce4a30>"
      ]
     },
     "execution_count": 308,
     "metadata": {},
     "output_type": "execute_result"
    },
    {
     "data": {
      "image/png": "[encoded data removed]",
      "text/plain": [
       "<Figure size 1440x1440 with 72 Axes>"
      ]
     },
     "metadata": {
      "needs_background": "light"
     },
     "output_type": "display_data"
    }
   ],
   "source": [
    "sns.pairplot(datos)"
   ]
  },
  {
   "cell_type": "markdown",
   "id": "7f020db7",
   "metadata": {},
   "source": [
    "## Construcción del modelo de Regresión Logística"
   ]
  },
  {
   "cell_type": "markdown",
   "id": "d47d7258",
   "metadata": {},
   "source": [
    "#### Construcción del modelo de Regresión Logística para la variable Inflammation\n"
   ]
  },
  {
   "cell_type": "markdown",
   "id": "b1b25ac3",
   "metadata": {},
   "source": [
    "### División en conjunto de entrenamiento y prueba"
   ]
  },
  {
   "cell_type": "code",
   "execution_count": 309,
   "id": "1dbe191f",
   "metadata": {},
   "outputs": [],
   "source": [
    "from sklearn.model_selection import train_test_split"
   ]
  },
  {
   "cell_type": "code",
   "execution_count": 310,
   "id": "e8a6d79b",
   "metadata": {},
   "outputs": [],
   "source": [
    "X1 = datos.drop(['Inflammation','Nephritis'],axis=1)"
   ]
  },
  {
   "cell_type": "code",
   "execution_count": 311,
   "id": "8e7f13be",
   "metadata": {},
   "outputs": [
    {
     "data": {
      "text/html": [
       "<div>\n",
       "<style scoped>\n",
       "    .dataframe tbody tr th:only-of-type {\n",
       "        vertical-align: middle;\n",
       "    }\n",
       "\n",
       "    .dataframe tbody tr th {\n",
       "        vertical-align: top;\n",
       "    }\n",
       "\n",
       "    .dataframe thead th {\n",
       "        text-align: right;\n",
       "    }\n",
       "</style>\n",
       "<table border=\"1\" class=\"dataframe\">\n",
       "  <thead>\n",
       "    <tr style=\"text-align: right;\">\n",
       "      <th></th>\n",
       "      <th>Temperature</th>\n",
       "      <th>Nausea</th>\n",
       "      <th>Lumbar pain</th>\n",
       "      <th>Urine pushing</th>\n",
       "      <th>Micturition pains</th>\n",
       "      <th>Burning of urethra</th>\n",
       "    </tr>\n",
       "  </thead>\n",
       "  <tbody>\n",
       "    <tr>\n",
       "      <th>0</th>\n",
       "      <td>35.5</td>\n",
       "      <td>0</td>\n",
       "      <td>1</td>\n",
       "      <td>0</td>\n",
       "      <td>0</td>\n",
       "      <td>0</td>\n",
       "    </tr>\n",
       "    <tr>\n",
       "      <th>1</th>\n",
       "      <td>35.9</td>\n",
       "      <td>0</td>\n",
       "      <td>0</td>\n",
       "      <td>1</td>\n",
       "      <td>1</td>\n",
       "      <td>1</td>\n",
       "    </tr>\n",
       "    <tr>\n",
       "      <th>2</th>\n",
       "      <td>35.9</td>\n",
       "      <td>0</td>\n",
       "      <td>1</td>\n",
       "      <td>0</td>\n",
       "      <td>0</td>\n",
       "      <td>0</td>\n",
       "    </tr>\n",
       "    <tr>\n",
       "      <th>3</th>\n",
       "      <td>36.0</td>\n",
       "      <td>0</td>\n",
       "      <td>0</td>\n",
       "      <td>1</td>\n",
       "      <td>1</td>\n",
       "      <td>1</td>\n",
       "    </tr>\n",
       "    <tr>\n",
       "      <th>4</th>\n",
       "      <td>36.0</td>\n",
       "      <td>0</td>\n",
       "      <td>1</td>\n",
       "      <td>0</td>\n",
       "      <td>0</td>\n",
       "      <td>0</td>\n",
       "    </tr>\n",
       "  </tbody>\n",
       "</table>\n",
       "</div>"
      ],
      "text/plain": [
       "   Temperature  Nausea  Lumbar pain  Urine pushing  Micturition pains  \\\n",
       "0         35.5       0            1              0                  0   \n",
       "1         35.9       0            0              1                  1   \n",
       "2         35.9       0            1              0                  0   \n",
       "3         36.0       0            0              1                  1   \n",
       "4         36.0       0            1              0                  0   \n",
       "\n",
       "   Burning of urethra  \n",
       "0                   0  \n",
       "1                   1  \n",
       "2                   0  \n",
       "3                   1  \n",
       "4                   0  "
      ]
     },
     "execution_count": 311,
     "metadata": {},
     "output_type": "execute_result"
    }
   ],
   "source": [
    "X1.head()"
   ]
  },
  {
   "cell_type": "code",
   "execution_count": 312,
   "id": "86170d85",
   "metadata": {},
   "outputs": [],
   "source": [
    "y1=datos['Inflammation']"
   ]
  },
  {
   "cell_type": "code",
   "execution_count": 313,
   "id": "db4f8a50",
   "metadata": {},
   "outputs": [
    {
     "data": {
      "text/plain": [
       "0      0\n",
       "1      1\n",
       "2      0\n",
       "3      1\n",
       "4      0\n",
       "      ..\n",
       "115    0\n",
       "116    0\n",
       "117    0\n",
       "118    0\n",
       "119    0\n",
       "Name: Inflammation, Length: 120, dtype: uint8"
      ]
     },
     "execution_count": 313,
     "metadata": {},
     "output_type": "execute_result"
    }
   ],
   "source": [
    "y1"
   ]
  },
  {
   "cell_type": "code",
   "execution_count": 314,
   "id": "e69efcef",
   "metadata": {},
   "outputs": [],
   "source": [
    "X_train1, X_test1, y_train1, y_test1 = train_test_split(X1, \n",
    "                                                    y1, \n",
    "                                                    test_size=0.30, \n",
    "                                                    random_state=60)"
   ]
  },
  {
   "cell_type": "markdown",
   "id": "d25f09ea",
   "metadata": {},
   "source": [
    "### Predicciones y Evaluaciones"
   ]
  },
  {
   "cell_type": "code",
   "execution_count": 315,
   "id": "6e9ec42d",
   "metadata": {},
   "outputs": [],
   "source": [
    "from sklearn.linear_model import LogisticRegression"
   ]
  },
  {
   "cell_type": "code",
   "execution_count": 319,
   "id": "46ffb7b7",
   "metadata": {},
   "outputs": [],
   "source": [
    "modelo1 = LogisticRegression(max_iter=1000)"
   ]
  },
  {
   "cell_type": "code",
   "execution_count": 320,
   "id": "441232c1",
   "metadata": {},
   "outputs": [
    {
     "data": {
      "text/plain": [
       "LogisticRegression(max_iter=1000)"
      ]
     },
     "execution_count": 320,
     "metadata": {},
     "output_type": "execute_result"
    }
   ],
   "source": [
    "modelo1.fit(X_train1,y_train1)"
   ]
  },
  {
   "cell_type": "code",
   "execution_count": 321,
   "id": "f78c0692",
   "metadata": {},
   "outputs": [],
   "source": [
    "predictions1 = modelo1.predict(X_test1)"
   ]
  },
  {
   "cell_type": "code",
   "execution_count": 322,
   "id": "b5aa6c9a",
   "metadata": {},
   "outputs": [
    {
     "data": {
      "text/plain": [
       "21     1\n",
       "105    1\n",
       "97     0\n",
       "93     1\n",
       "3      1\n",
       "23     1\n",
       "58     1\n",
       "91     0\n",
       "1      1\n",
       "95     0\n",
       "56     1\n",
       "19     0\n",
       "28     0\n",
       "73     0\n",
       "4      0\n",
       "89     1\n",
       "88     1\n",
       "110    1\n",
       "30     1\n",
       "55     1\n",
       "61     0\n",
       "8      1\n",
       "92     1\n",
       "14     0\n",
       "96     0\n",
       "82     0\n",
       "69     0\n",
       "37     0\n",
       "13     1\n",
       "35     1\n",
       "22     0\n",
       "29     1\n",
       "78     1\n",
       "52     0\n",
       "25     1\n",
       "62     0\n",
       "Name: Inflammation, dtype: uint8"
      ]
     },
     "execution_count": 322,
     "metadata": {},
     "output_type": "execute_result"
    }
   ],
   "source": [
    "y_test1"
   ]
  },
  {
   "cell_type": "code",
   "execution_count": 323,
   "id": "f597a5ef",
   "metadata": {},
   "outputs": [
    {
     "data": {
      "text/html": [
       "<div>\n",
       "<style scoped>\n",
       "    .dataframe tbody tr th:only-of-type {\n",
       "        vertical-align: middle;\n",
       "    }\n",
       "\n",
       "    .dataframe tbody tr th {\n",
       "        vertical-align: top;\n",
       "    }\n",
       "\n",
       "    .dataframe thead th {\n",
       "        text-align: right;\n",
       "    }\n",
       "</style>\n",
       "<table border=\"1\" class=\"dataframe\">\n",
       "  <thead>\n",
       "    <tr style=\"text-align: right;\">\n",
       "      <th></th>\n",
       "      <th>Temperature</th>\n",
       "      <th>Nausea</th>\n",
       "      <th>Lumbar pain</th>\n",
       "      <th>Urine pushing</th>\n",
       "      <th>Micturition pains</th>\n",
       "      <th>Burning of urethra</th>\n",
       "    </tr>\n",
       "  </thead>\n",
       "  <tbody>\n",
       "    <tr>\n",
       "      <th>21</th>\n",
       "      <td>37.0</td>\n",
       "      <td>0</td>\n",
       "      <td>0</td>\n",
       "      <td>1</td>\n",
       "      <td>1</td>\n",
       "      <td>0</td>\n",
       "    </tr>\n",
       "    <tr>\n",
       "      <th>105</th>\n",
       "      <td>41.1</td>\n",
       "      <td>1</td>\n",
       "      <td>1</td>\n",
       "      <td>1</td>\n",
       "      <td>1</td>\n",
       "      <td>1</td>\n",
       "    </tr>\n",
       "    <tr>\n",
       "      <th>97</th>\n",
       "      <td>40.8</td>\n",
       "      <td>0</td>\n",
       "      <td>1</td>\n",
       "      <td>1</td>\n",
       "      <td>0</td>\n",
       "      <td>1</td>\n",
       "    </tr>\n",
       "    <tr>\n",
       "      <th>93</th>\n",
       "      <td>40.7</td>\n",
       "      <td>1</td>\n",
       "      <td>1</td>\n",
       "      <td>1</td>\n",
       "      <td>1</td>\n",
       "      <td>0</td>\n",
       "    </tr>\n",
       "    <tr>\n",
       "      <th>3</th>\n",
       "      <td>36.0</td>\n",
       "      <td>0</td>\n",
       "      <td>0</td>\n",
       "      <td>1</td>\n",
       "      <td>1</td>\n",
       "      <td>1</td>\n",
       "    </tr>\n",
       "    <tr>\n",
       "      <th>23</th>\n",
       "      <td>37.0</td>\n",
       "      <td>0</td>\n",
       "      <td>0</td>\n",
       "      <td>1</td>\n",
       "      <td>1</td>\n",
       "      <td>1</td>\n",
       "    </tr>\n",
       "    <tr>\n",
       "      <th>58</th>\n",
       "      <td>37.9</td>\n",
       "      <td>0</td>\n",
       "      <td>0</td>\n",
       "      <td>1</td>\n",
       "      <td>1</td>\n",
       "      <td>1</td>\n",
       "    </tr>\n",
       "    <tr>\n",
       "      <th>91</th>\n",
       "      <td>40.6</td>\n",
       "      <td>1</td>\n",
       "      <td>1</td>\n",
       "      <td>0</td>\n",
       "      <td>1</td>\n",
       "      <td>0</td>\n",
       "    </tr>\n",
       "    <tr>\n",
       "      <th>1</th>\n",
       "      <td>35.9</td>\n",
       "      <td>0</td>\n",
       "      <td>0</td>\n",
       "      <td>1</td>\n",
       "      <td>1</td>\n",
       "      <td>1</td>\n",
       "    </tr>\n",
       "    <tr>\n",
       "      <th>95</th>\n",
       "      <td>40.7</td>\n",
       "      <td>1</td>\n",
       "      <td>1</td>\n",
       "      <td>0</td>\n",
       "      <td>1</td>\n",
       "      <td>0</td>\n",
       "    </tr>\n",
       "    <tr>\n",
       "      <th>56</th>\n",
       "      <td>37.9</td>\n",
       "      <td>0</td>\n",
       "      <td>0</td>\n",
       "      <td>1</td>\n",
       "      <td>1</td>\n",
       "      <td>0</td>\n",
       "    </tr>\n",
       "    <tr>\n",
       "      <th>19</th>\n",
       "      <td>36.9</td>\n",
       "      <td>0</td>\n",
       "      <td>1</td>\n",
       "      <td>0</td>\n",
       "      <td>0</td>\n",
       "      <td>0</td>\n",
       "    </tr>\n",
       "    <tr>\n",
       "      <th>28</th>\n",
       "      <td>37.1</td>\n",
       "      <td>0</td>\n",
       "      <td>1</td>\n",
       "      <td>0</td>\n",
       "      <td>0</td>\n",
       "      <td>0</td>\n",
       "    </tr>\n",
       "    <tr>\n",
       "      <th>73</th>\n",
       "      <td>40.0</td>\n",
       "      <td>0</td>\n",
       "      <td>0</td>\n",
       "      <td>0</td>\n",
       "      <td>0</td>\n",
       "      <td>0</td>\n",
       "    </tr>\n",
       "    <tr>\n",
       "      <th>4</th>\n",
       "      <td>36.0</td>\n",
       "      <td>0</td>\n",
       "      <td>1</td>\n",
       "      <td>0</td>\n",
       "      <td>0</td>\n",
       "      <td>0</td>\n",
       "    </tr>\n",
       "    <tr>\n",
       "      <th>89</th>\n",
       "      <td>40.6</td>\n",
       "      <td>1</td>\n",
       "      <td>1</td>\n",
       "      <td>1</td>\n",
       "      <td>1</td>\n",
       "      <td>1</td>\n",
       "    </tr>\n",
       "    <tr>\n",
       "      <th>88</th>\n",
       "      <td>40.5</td>\n",
       "      <td>1</td>\n",
       "      <td>1</td>\n",
       "      <td>1</td>\n",
       "      <td>1</td>\n",
       "      <td>0</td>\n",
       "    </tr>\n",
       "    <tr>\n",
       "      <th>110</th>\n",
       "      <td>41.2</td>\n",
       "      <td>1</td>\n",
       "      <td>1</td>\n",
       "      <td>1</td>\n",
       "      <td>1</td>\n",
       "      <td>1</td>\n",
       "    </tr>\n",
       "    <tr>\n",
       "      <th>30</th>\n",
       "      <td>37.1</td>\n",
       "      <td>0</td>\n",
       "      <td>0</td>\n",
       "      <td>1</td>\n",
       "      <td>0</td>\n",
       "      <td>0</td>\n",
       "    </tr>\n",
       "    <tr>\n",
       "      <th>55</th>\n",
       "      <td>37.9</td>\n",
       "      <td>0</td>\n",
       "      <td>0</td>\n",
       "      <td>1</td>\n",
       "      <td>1</td>\n",
       "      <td>0</td>\n",
       "    </tr>\n",
       "    <tr>\n",
       "      <th>61</th>\n",
       "      <td>38.0</td>\n",
       "      <td>0</td>\n",
       "      <td>1</td>\n",
       "      <td>1</td>\n",
       "      <td>0</td>\n",
       "      <td>1</td>\n",
       "    </tr>\n",
       "    <tr>\n",
       "      <th>8</th>\n",
       "      <td>36.3</td>\n",
       "      <td>0</td>\n",
       "      <td>0</td>\n",
       "      <td>1</td>\n",
       "      <td>1</td>\n",
       "      <td>1</td>\n",
       "    </tr>\n",
       "    <tr>\n",
       "      <th>92</th>\n",
       "      <td>40.7</td>\n",
       "      <td>1</td>\n",
       "      <td>1</td>\n",
       "      <td>1</td>\n",
       "      <td>1</td>\n",
       "      <td>1</td>\n",
       "    </tr>\n",
       "    <tr>\n",
       "      <th>14</th>\n",
       "      <td>36.7</td>\n",
       "      <td>0</td>\n",
       "      <td>1</td>\n",
       "      <td>0</td>\n",
       "      <td>0</td>\n",
       "      <td>0</td>\n",
       "    </tr>\n",
       "    <tr>\n",
       "      <th>96</th>\n",
       "      <td>40.7</td>\n",
       "      <td>0</td>\n",
       "      <td>1</td>\n",
       "      <td>1</td>\n",
       "      <td>0</td>\n",
       "      <td>1</td>\n",
       "    </tr>\n",
       "    <tr>\n",
       "      <th>82</th>\n",
       "      <td>40.3</td>\n",
       "      <td>0</td>\n",
       "      <td>1</td>\n",
       "      <td>1</td>\n",
       "      <td>0</td>\n",
       "      <td>1</td>\n",
       "    </tr>\n",
       "    <tr>\n",
       "      <th>69</th>\n",
       "      <td>39.7</td>\n",
       "      <td>0</td>\n",
       "      <td>1</td>\n",
       "      <td>1</td>\n",
       "      <td>0</td>\n",
       "      <td>1</td>\n",
       "    </tr>\n",
       "    <tr>\n",
       "      <th>37</th>\n",
       "      <td>37.4</td>\n",
       "      <td>0</td>\n",
       "      <td>1</td>\n",
       "      <td>0</td>\n",
       "      <td>0</td>\n",
       "      <td>0</td>\n",
       "    </tr>\n",
       "    <tr>\n",
       "      <th>13</th>\n",
       "      <td>36.7</td>\n",
       "      <td>0</td>\n",
       "      <td>0</td>\n",
       "      <td>1</td>\n",
       "      <td>1</td>\n",
       "      <td>1</td>\n",
       "    </tr>\n",
       "    <tr>\n",
       "      <th>35</th>\n",
       "      <td>37.3</td>\n",
       "      <td>0</td>\n",
       "      <td>0</td>\n",
       "      <td>1</td>\n",
       "      <td>1</td>\n",
       "      <td>1</td>\n",
       "    </tr>\n",
       "    <tr>\n",
       "      <th>22</th>\n",
       "      <td>37.0</td>\n",
       "      <td>0</td>\n",
       "      <td>1</td>\n",
       "      <td>0</td>\n",
       "      <td>0</td>\n",
       "      <td>0</td>\n",
       "    </tr>\n",
       "    <tr>\n",
       "      <th>29</th>\n",
       "      <td>37.1</td>\n",
       "      <td>0</td>\n",
       "      <td>0</td>\n",
       "      <td>1</td>\n",
       "      <td>1</td>\n",
       "      <td>1</td>\n",
       "    </tr>\n",
       "    <tr>\n",
       "      <th>78</th>\n",
       "      <td>40.1</td>\n",
       "      <td>1</td>\n",
       "      <td>1</td>\n",
       "      <td>1</td>\n",
       "      <td>1</td>\n",
       "      <td>0</td>\n",
       "    </tr>\n",
       "    <tr>\n",
       "      <th>52</th>\n",
       "      <td>37.8</td>\n",
       "      <td>0</td>\n",
       "      <td>1</td>\n",
       "      <td>0</td>\n",
       "      <td>0</td>\n",
       "      <td>0</td>\n",
       "    </tr>\n",
       "    <tr>\n",
       "      <th>25</th>\n",
       "      <td>37.0</td>\n",
       "      <td>0</td>\n",
       "      <td>0</td>\n",
       "      <td>1</td>\n",
       "      <td>1</td>\n",
       "      <td>1</td>\n",
       "    </tr>\n",
       "    <tr>\n",
       "      <th>62</th>\n",
       "      <td>38.1</td>\n",
       "      <td>0</td>\n",
       "      <td>1</td>\n",
       "      <td>1</td>\n",
       "      <td>0</td>\n",
       "      <td>1</td>\n",
       "    </tr>\n",
       "  </tbody>\n",
       "</table>\n",
       "</div>"
      ],
      "text/plain": [
       "     Temperature  Nausea  Lumbar pain  Urine pushing  Micturition pains  \\\n",
       "21          37.0       0            0              1                  1   \n",
       "105         41.1       1            1              1                  1   \n",
       "97          40.8       0            1              1                  0   \n",
       "93          40.7       1            1              1                  1   \n",
       "3           36.0       0            0              1                  1   \n",
       "23          37.0       0            0              1                  1   \n",
       "58          37.9       0            0              1                  1   \n",
       "91          40.6       1            1              0                  1   \n",
       "1           35.9       0            0              1                  1   \n",
       "95          40.7       1            1              0                  1   \n",
       "56          37.9       0            0              1                  1   \n",
       "19          36.9       0            1              0                  0   \n",
       "28          37.1       0            1              0                  0   \n",
       "73          40.0       0            0              0                  0   \n",
       "4           36.0       0            1              0                  0   \n",
       "89          40.6       1            1              1                  1   \n",
       "88          40.5       1            1              1                  1   \n",
       "110         41.2       1            1              1                  1   \n",
       "30          37.1       0            0              1                  0   \n",
       "55          37.9       0            0              1                  1   \n",
       "61          38.0       0            1              1                  0   \n",
       "8           36.3       0            0              1                  1   \n",
       "92          40.7       1            1              1                  1   \n",
       "14          36.7       0            1              0                  0   \n",
       "96          40.7       0            1              1                  0   \n",
       "82          40.3       0            1              1                  0   \n",
       "69          39.7       0            1              1                  0   \n",
       "37          37.4       0            1              0                  0   \n",
       "13          36.7       0            0              1                  1   \n",
       "35          37.3       0            0              1                  1   \n",
       "22          37.0       0            1              0                  0   \n",
       "29          37.1       0            0              1                  1   \n",
       "78          40.1       1            1              1                  1   \n",
       "52          37.8       0            1              0                  0   \n",
       "25          37.0       0            0              1                  1   \n",
       "62          38.1       0            1              1                  0   \n",
       "\n",
       "     Burning of urethra  \n",
       "21                    0  \n",
       "105                   1  \n",
       "97                    1  \n",
       "93                    0  \n",
       "3                     1  \n",
       "23                    1  \n",
       "58                    1  \n",
       "91                    0  \n",
       "1                     1  \n",
       "95                    0  \n",
       "56                    0  \n",
       "19                    0  \n",
       "28                    0  \n",
       "73                    0  \n",
       "4                     0  \n",
       "89                    1  \n",
       "88                    0  \n",
       "110                   1  \n",
       "30                    0  \n",
       "55                    0  \n",
       "61                    1  \n",
       "8                     1  \n",
       "92                    1  \n",
       "14                    0  \n",
       "96                    1  \n",
       "82                    1  \n",
       "69                    1  \n",
       "37                    0  \n",
       "13                    1  \n",
       "35                    1  \n",
       "22                    0  \n",
       "29                    1  \n",
       "78                    0  \n",
       "52                    0  \n",
       "25                    1  \n",
       "62                    1  "
      ]
     },
     "execution_count": 323,
     "metadata": {},
     "output_type": "execute_result"
    }
   ],
   "source": [
    "X_test1"
   ]
  },
  {
   "cell_type": "code",
   "execution_count": 324,
   "id": "2184bb58",
   "metadata": {},
   "outputs": [
    {
     "data": {
      "text/plain": [
       "array([1, 1, 0, 1, 1, 1, 1, 0, 1, 0, 1, 0, 0, 0, 0, 1, 1, 1, 1, 1, 0, 1,\n",
       "       1, 0, 0, 0, 0, 0, 1, 1, 0, 1, 1, 0, 1, 0], dtype=uint8)"
      ]
     },
     "execution_count": 324,
     "metadata": {},
     "output_type": "execute_result"
    }
   ],
   "source": [
    "predictions1"
   ]
  },
  {
   "cell_type": "markdown",
   "id": "3d1f4a4e",
   "metadata": {},
   "source": [
    "### Evaluación MODELO 1 PARA Y= Inflammation"
   ]
  },
  {
   "cell_type": "code",
   "execution_count": 325,
   "id": "fcf6189d",
   "metadata": {},
   "outputs": [],
   "source": [
    "from sklearn.metrics import confusion_matrix"
   ]
  },
  {
   "cell_type": "code",
   "execution_count": 326,
   "id": "6bd0458f",
   "metadata": {},
   "outputs": [
    {
     "data": {
      "text/plain": [
       "array([[16,  0],\n",
       "       [ 0, 20]], dtype=int64)"
      ]
     },
     "execution_count": 326,
     "metadata": {},
     "output_type": "execute_result"
    }
   ],
   "source": [
    "confusion_matrix(y_test1,predictions1)"
   ]
  },
  {
   "cell_type": "code",
   "execution_count": 327,
   "id": "4aa8d884",
   "metadata": {},
   "outputs": [],
   "source": [
    "from sklearn.metrics import classification_report"
   ]
  },
  {
   "cell_type": "code",
   "execution_count": 328,
   "id": "03969e11",
   "metadata": {},
   "outputs": [
    {
     "name": "stdout",
     "output_type": "stream",
     "text": [
      "              precision    recall  f1-score   support\n",
      "\n",
      "           0       1.00      1.00      1.00        16\n",
      "           1       1.00      1.00      1.00        20\n",
      "\n",
      "    accuracy                           1.00        36\n",
      "   macro avg       1.00      1.00      1.00        36\n",
      "weighted avg       1.00      1.00      1.00        36\n",
      "\n"
     ]
    }
   ],
   "source": [
    "print(classification_report(y_test1,predictions1))"
   ]
  },
  {
   "cell_type": "markdown",
   "id": "8b9ba08d",
   "metadata": {},
   "source": [
    "## Construcción del modelo de Regresión Logística PARA Y=Nephritis\n"
   ]
  },
  {
   "cell_type": "markdown",
   "id": "cd1b54c4",
   "metadata": {},
   "source": [
    "#### Construcción del modelo de Regresión Logística para la variable Nephritis\n"
   ]
  },
  {
   "cell_type": "code",
   "execution_count": 334,
   "id": "14c440dc",
   "metadata": {},
   "outputs": [
    {
     "name": "stdout",
     "output_type": "stream",
     "text": [
      "<class 'pandas.core.frame.DataFrame'>\n",
      "RangeIndex: 120 entries, 0 to 119\n",
      "Data columns (total 8 columns):\n",
      " #   Column              Non-Null Count  Dtype  \n",
      "---  ------              --------------  -----  \n",
      " 0   Temperature         120 non-null    float64\n",
      " 1   Nausea              120 non-null    uint8  \n",
      " 2   Lumbar pain         120 non-null    uint8  \n",
      " 3   Urine pushing       120 non-null    uint8  \n",
      " 4   Micturition pains   120 non-null    uint8  \n",
      " 5   Burning of urethra  120 non-null    uint8  \n",
      " 6   Inflammation        120 non-null    uint8  \n",
      " 7   Nephritis           120 non-null    uint8  \n",
      "dtypes: float64(1), uint8(7)\n",
      "memory usage: 1.9 KB\n"
     ]
    }
   ],
   "source": [
    "datos.info()"
   ]
  },
  {
   "cell_type": "code",
   "execution_count": 341,
   "id": "b569d14e",
   "metadata": {},
   "outputs": [],
   "source": [
    "X2 = datos.drop(['Nephritis','Inflammation'],axis=1)"
   ]
  },
  {
   "cell_type": "code",
   "execution_count": 343,
   "id": "32cb3565",
   "metadata": {},
   "outputs": [
    {
     "data": {
      "text/html": [
       "<div>\n",
       "<style scoped>\n",
       "    .dataframe tbody tr th:only-of-type {\n",
       "        vertical-align: middle;\n",
       "    }\n",
       "\n",
       "    .dataframe tbody tr th {\n",
       "        vertical-align: top;\n",
       "    }\n",
       "\n",
       "    .dataframe thead th {\n",
       "        text-align: right;\n",
       "    }\n",
       "</style>\n",
       "<table border=\"1\" class=\"dataframe\">\n",
       "  <thead>\n",
       "    <tr style=\"text-align: right;\">\n",
       "      <th></th>\n",
       "      <th>Temperature</th>\n",
       "      <th>Nausea</th>\n",
       "      <th>Lumbar pain</th>\n",
       "      <th>Urine pushing</th>\n",
       "      <th>Micturition pains</th>\n",
       "      <th>Burning of urethra</th>\n",
       "    </tr>\n",
       "  </thead>\n",
       "  <tbody>\n",
       "    <tr>\n",
       "      <th>0</th>\n",
       "      <td>35.5</td>\n",
       "      <td>0</td>\n",
       "      <td>1</td>\n",
       "      <td>0</td>\n",
       "      <td>0</td>\n",
       "      <td>0</td>\n",
       "    </tr>\n",
       "    <tr>\n",
       "      <th>1</th>\n",
       "      <td>35.9</td>\n",
       "      <td>0</td>\n",
       "      <td>0</td>\n",
       "      <td>1</td>\n",
       "      <td>1</td>\n",
       "      <td>1</td>\n",
       "    </tr>\n",
       "    <tr>\n",
       "      <th>2</th>\n",
       "      <td>35.9</td>\n",
       "      <td>0</td>\n",
       "      <td>1</td>\n",
       "      <td>0</td>\n",
       "      <td>0</td>\n",
       "      <td>0</td>\n",
       "    </tr>\n",
       "    <tr>\n",
       "      <th>3</th>\n",
       "      <td>36.0</td>\n",
       "      <td>0</td>\n",
       "      <td>0</td>\n",
       "      <td>1</td>\n",
       "      <td>1</td>\n",
       "      <td>1</td>\n",
       "    </tr>\n",
       "    <tr>\n",
       "      <th>4</th>\n",
       "      <td>36.0</td>\n",
       "      <td>0</td>\n",
       "      <td>1</td>\n",
       "      <td>0</td>\n",
       "      <td>0</td>\n",
       "      <td>0</td>\n",
       "    </tr>\n",
       "    <tr>\n",
       "      <th>...</th>\n",
       "      <td>...</td>\n",
       "      <td>...</td>\n",
       "      <td>...</td>\n",
       "      <td>...</td>\n",
       "      <td>...</td>\n",
       "      <td>...</td>\n",
       "    </tr>\n",
       "    <tr>\n",
       "      <th>115</th>\n",
       "      <td>41.4</td>\n",
       "      <td>0</td>\n",
       "      <td>1</td>\n",
       "      <td>1</td>\n",
       "      <td>0</td>\n",
       "      <td>1</td>\n",
       "    </tr>\n",
       "    <tr>\n",
       "      <th>116</th>\n",
       "      <td>41.5</td>\n",
       "      <td>0</td>\n",
       "      <td>0</td>\n",
       "      <td>0</td>\n",
       "      <td>0</td>\n",
       "      <td>0</td>\n",
       "    </tr>\n",
       "    <tr>\n",
       "      <th>117</th>\n",
       "      <td>41.5</td>\n",
       "      <td>1</td>\n",
       "      <td>1</td>\n",
       "      <td>0</td>\n",
       "      <td>1</td>\n",
       "      <td>0</td>\n",
       "    </tr>\n",
       "    <tr>\n",
       "      <th>118</th>\n",
       "      <td>41.5</td>\n",
       "      <td>0</td>\n",
       "      <td>1</td>\n",
       "      <td>1</td>\n",
       "      <td>0</td>\n",
       "      <td>1</td>\n",
       "    </tr>\n",
       "    <tr>\n",
       "      <th>119</th>\n",
       "      <td>41.5</td>\n",
       "      <td>0</td>\n",
       "      <td>1</td>\n",
       "      <td>1</td>\n",
       "      <td>0</td>\n",
       "      <td>1</td>\n",
       "    </tr>\n",
       "  </tbody>\n",
       "</table>\n",
       "<p>120 rows × 6 columns</p>\n",
       "</div>"
      ],
      "text/plain": [
       "     Temperature  Nausea  Lumbar pain  Urine pushing  Micturition pains  \\\n",
       "0           35.5       0            1              0                  0   \n",
       "1           35.9       0            0              1                  1   \n",
       "2           35.9       0            1              0                  0   \n",
       "3           36.0       0            0              1                  1   \n",
       "4           36.0       0            1              0                  0   \n",
       "..           ...     ...          ...            ...                ...   \n",
       "115         41.4       0            1              1                  0   \n",
       "116         41.5       0            0              0                  0   \n",
       "117         41.5       1            1              0                  1   \n",
       "118         41.5       0            1              1                  0   \n",
       "119         41.5       0            1              1                  0   \n",
       "\n",
       "     Burning of urethra  \n",
       "0                     0  \n",
       "1                     1  \n",
       "2                     0  \n",
       "3                     1  \n",
       "4                     0  \n",
       "..                  ...  \n",
       "115                   1  \n",
       "116                   0  \n",
       "117                   0  \n",
       "118                   1  \n",
       "119                   1  \n",
       "\n",
       "[120 rows x 6 columns]"
      ]
     },
     "execution_count": 343,
     "metadata": {},
     "output_type": "execute_result"
    }
   ],
   "source": [
    "X2"
   ]
  },
  {
   "cell_type": "code",
   "execution_count": 346,
   "id": "32a354ce",
   "metadata": {},
   "outputs": [],
   "source": [
    "y2=datos['Nephritis']"
   ]
  },
  {
   "cell_type": "code",
   "execution_count": 347,
   "id": "22bf7e27",
   "metadata": {},
   "outputs": [
    {
     "data": {
      "text/plain": [
       "0      0\n",
       "1      0\n",
       "2      0\n",
       "3      0\n",
       "4      0\n",
       "      ..\n",
       "115    1\n",
       "116    0\n",
       "117    1\n",
       "118    1\n",
       "119    1\n",
       "Name: Nephritis, Length: 120, dtype: uint8"
      ]
     },
     "execution_count": 347,
     "metadata": {},
     "output_type": "execute_result"
    }
   ],
   "source": [
    "y2"
   ]
  },
  {
   "cell_type": "code",
   "execution_count": 348,
   "id": "267e169f",
   "metadata": {},
   "outputs": [],
   "source": [
    "X_train2, X_test2, y_train2, y_test2 = train_test_split(X2, \n",
    "                                                    y2, \n",
    "                                                    test_size=0.35, \n",
    "                                                    random_state=101)"
   ]
  },
  {
   "cell_type": "markdown",
   "id": "0df17735",
   "metadata": {},
   "source": [
    "### Predicciones y Evaluaciones"
   ]
  },
  {
   "cell_type": "code",
   "execution_count": 349,
   "id": "fa26c5a9",
   "metadata": {},
   "outputs": [],
   "source": [
    "from sklearn.linear_model import LogisticRegression"
   ]
  },
  {
   "cell_type": "code",
   "execution_count": 350,
   "id": "5c5c7518",
   "metadata": {},
   "outputs": [],
   "source": [
    "modelo2 = LogisticRegression(max_iter=1000)"
   ]
  },
  {
   "cell_type": "code",
   "execution_count": 351,
   "id": "374411a7",
   "metadata": {},
   "outputs": [
    {
     "data": {
      "text/plain": [
       "LogisticRegression(max_iter=1000)"
      ]
     },
     "execution_count": 351,
     "metadata": {},
     "output_type": "execute_result"
    }
   ],
   "source": [
    "modelo2.fit(X_train2,y_train2)"
   ]
  },
  {
   "cell_type": "code",
   "execution_count": 353,
   "id": "01c3e9fc",
   "metadata": {},
   "outputs": [],
   "source": [
    "predictions2 = modelo2.predict(X_test2)"
   ]
  },
  {
   "cell_type": "code",
   "execution_count": 354,
   "id": "f0e2b728",
   "metadata": {},
   "outputs": [
    {
     "data": {
      "text/plain": [
       "13     0\n",
       "68     1\n",
       "54     0\n",
       "21     0\n",
       "67     1\n",
       "1      0\n",
       "53     0\n",
       "98     1\n",
       "41     0\n",
       "99     1\n",
       "57     0\n",
       "100    1\n",
       "66     1\n",
       "45     0\n",
       "16     0\n",
       "43     0\n",
       "69     1\n",
       "116    0\n",
       "103    1\n",
       "108    1\n",
       "61     1\n",
       "31     0\n",
       "33     0\n",
       "119    1\n",
       "79     1\n",
       "88     1\n",
       "6      0\n",
       "113    1\n",
       "65     1\n",
       "32     0\n",
       "48     0\n",
       "25     0\n",
       "102    0\n",
       "14     0\n",
       "55     0\n",
       "97     1\n",
       "3      0\n",
       "42     0\n",
       "80     0\n",
       "94     0\n",
       "58     0\n",
       "118    1\n",
       "Name: Nephritis, dtype: uint8"
      ]
     },
     "execution_count": 354,
     "metadata": {},
     "output_type": "execute_result"
    }
   ],
   "source": [
    "y_test2"
   ]
  },
  {
   "cell_type": "code",
   "execution_count": 355,
   "id": "5b5c24a5",
   "metadata": {},
   "outputs": [
    {
     "data": {
      "text/html": [
       "<div>\n",
       "<style scoped>\n",
       "    .dataframe tbody tr th:only-of-type {\n",
       "        vertical-align: middle;\n",
       "    }\n",
       "\n",
       "    .dataframe tbody tr th {\n",
       "        vertical-align: top;\n",
       "    }\n",
       "\n",
       "    .dataframe thead th {\n",
       "        text-align: right;\n",
       "    }\n",
       "</style>\n",
       "<table border=\"1\" class=\"dataframe\">\n",
       "  <thead>\n",
       "    <tr style=\"text-align: right;\">\n",
       "      <th></th>\n",
       "      <th>Temperature</th>\n",
       "      <th>Nausea</th>\n",
       "      <th>Lumbar pain</th>\n",
       "      <th>Urine pushing</th>\n",
       "      <th>Micturition pains</th>\n",
       "      <th>Burning of urethra</th>\n",
       "    </tr>\n",
       "  </thead>\n",
       "  <tbody>\n",
       "    <tr>\n",
       "      <th>13</th>\n",
       "      <td>36.7</td>\n",
       "      <td>0</td>\n",
       "      <td>0</td>\n",
       "      <td>1</td>\n",
       "      <td>1</td>\n",
       "      <td>1</td>\n",
       "    </tr>\n",
       "    <tr>\n",
       "      <th>68</th>\n",
       "      <td>39.4</td>\n",
       "      <td>0</td>\n",
       "      <td>1</td>\n",
       "      <td>1</td>\n",
       "      <td>0</td>\n",
       "      <td>1</td>\n",
       "    </tr>\n",
       "    <tr>\n",
       "      <th>54</th>\n",
       "      <td>37.8</td>\n",
       "      <td>0</td>\n",
       "      <td>0</td>\n",
       "      <td>1</td>\n",
       "      <td>0</td>\n",
       "      <td>0</td>\n",
       "    </tr>\n",
       "    <tr>\n",
       "      <th>21</th>\n",
       "      <td>37.0</td>\n",
       "      <td>0</td>\n",
       "      <td>0</td>\n",
       "      <td>1</td>\n",
       "      <td>1</td>\n",
       "      <td>0</td>\n",
       "    </tr>\n",
       "    <tr>\n",
       "      <th>67</th>\n",
       "      <td>39.0</td>\n",
       "      <td>0</td>\n",
       "      <td>1</td>\n",
       "      <td>1</td>\n",
       "      <td>0</td>\n",
       "      <td>1</td>\n",
       "    </tr>\n",
       "    <tr>\n",
       "      <th>1</th>\n",
       "      <td>35.9</td>\n",
       "      <td>0</td>\n",
       "      <td>0</td>\n",
       "      <td>1</td>\n",
       "      <td>1</td>\n",
       "      <td>1</td>\n",
       "    </tr>\n",
       "    <tr>\n",
       "      <th>53</th>\n",
       "      <td>37.8</td>\n",
       "      <td>0</td>\n",
       "      <td>0</td>\n",
       "      <td>1</td>\n",
       "      <td>1</td>\n",
       "      <td>1</td>\n",
       "    </tr>\n",
       "    <tr>\n",
       "      <th>98</th>\n",
       "      <td>40.9</td>\n",
       "      <td>1</td>\n",
       "      <td>1</td>\n",
       "      <td>1</td>\n",
       "      <td>1</td>\n",
       "      <td>0</td>\n",
       "    </tr>\n",
       "    <tr>\n",
       "      <th>41</th>\n",
       "      <td>37.5</td>\n",
       "      <td>0</td>\n",
       "      <td>1</td>\n",
       "      <td>0</td>\n",
       "      <td>0</td>\n",
       "      <td>0</td>\n",
       "    </tr>\n",
       "    <tr>\n",
       "      <th>99</th>\n",
       "      <td>40.9</td>\n",
       "      <td>1</td>\n",
       "      <td>1</td>\n",
       "      <td>1</td>\n",
       "      <td>1</td>\n",
       "      <td>0</td>\n",
       "    </tr>\n",
       "    <tr>\n",
       "      <th>57</th>\n",
       "      <td>37.9</td>\n",
       "      <td>0</td>\n",
       "      <td>1</td>\n",
       "      <td>0</td>\n",
       "      <td>0</td>\n",
       "      <td>0</td>\n",
       "    </tr>\n",
       "    <tr>\n",
       "      <th>100</th>\n",
       "      <td>40.9</td>\n",
       "      <td>0</td>\n",
       "      <td>1</td>\n",
       "      <td>1</td>\n",
       "      <td>0</td>\n",
       "      <td>1</td>\n",
       "    </tr>\n",
       "    <tr>\n",
       "      <th>66</th>\n",
       "      <td>38.9</td>\n",
       "      <td>0</td>\n",
       "      <td>1</td>\n",
       "      <td>1</td>\n",
       "      <td>0</td>\n",
       "      <td>1</td>\n",
       "    </tr>\n",
       "    <tr>\n",
       "      <th>45</th>\n",
       "      <td>37.6</td>\n",
       "      <td>0</td>\n",
       "      <td>0</td>\n",
       "      <td>1</td>\n",
       "      <td>1</td>\n",
       "      <td>0</td>\n",
       "    </tr>\n",
       "    <tr>\n",
       "      <th>16</th>\n",
       "      <td>36.8</td>\n",
       "      <td>0</td>\n",
       "      <td>0</td>\n",
       "      <td>1</td>\n",
       "      <td>1</td>\n",
       "      <td>1</td>\n",
       "    </tr>\n",
       "    <tr>\n",
       "      <th>43</th>\n",
       "      <td>37.5</td>\n",
       "      <td>0</td>\n",
       "      <td>0</td>\n",
       "      <td>1</td>\n",
       "      <td>0</td>\n",
       "      <td>0</td>\n",
       "    </tr>\n",
       "    <tr>\n",
       "      <th>69</th>\n",
       "      <td>39.7</td>\n",
       "      <td>0</td>\n",
       "      <td>1</td>\n",
       "      <td>1</td>\n",
       "      <td>0</td>\n",
       "      <td>1</td>\n",
       "    </tr>\n",
       "    <tr>\n",
       "      <th>116</th>\n",
       "      <td>41.5</td>\n",
       "      <td>0</td>\n",
       "      <td>0</td>\n",
       "      <td>0</td>\n",
       "      <td>0</td>\n",
       "      <td>0</td>\n",
       "    </tr>\n",
       "    <tr>\n",
       "      <th>103</th>\n",
       "      <td>41.0</td>\n",
       "      <td>1</td>\n",
       "      <td>1</td>\n",
       "      <td>0</td>\n",
       "      <td>1</td>\n",
       "      <td>0</td>\n",
       "    </tr>\n",
       "    <tr>\n",
       "      <th>108</th>\n",
       "      <td>41.1</td>\n",
       "      <td>1</td>\n",
       "      <td>1</td>\n",
       "      <td>0</td>\n",
       "      <td>1</td>\n",
       "      <td>0</td>\n",
       "    </tr>\n",
       "    <tr>\n",
       "      <th>61</th>\n",
       "      <td>38.0</td>\n",
       "      <td>0</td>\n",
       "      <td>1</td>\n",
       "      <td>1</td>\n",
       "      <td>0</td>\n",
       "      <td>1</td>\n",
       "    </tr>\n",
       "    <tr>\n",
       "      <th>31</th>\n",
       "      <td>37.2</td>\n",
       "      <td>0</td>\n",
       "      <td>0</td>\n",
       "      <td>1</td>\n",
       "      <td>1</td>\n",
       "      <td>0</td>\n",
       "    </tr>\n",
       "    <tr>\n",
       "      <th>33</th>\n",
       "      <td>37.2</td>\n",
       "      <td>0</td>\n",
       "      <td>0</td>\n",
       "      <td>1</td>\n",
       "      <td>0</td>\n",
       "      <td>0</td>\n",
       "    </tr>\n",
       "    <tr>\n",
       "      <th>119</th>\n",
       "      <td>41.5</td>\n",
       "      <td>0</td>\n",
       "      <td>1</td>\n",
       "      <td>1</td>\n",
       "      <td>0</td>\n",
       "      <td>1</td>\n",
       "    </tr>\n",
       "    <tr>\n",
       "      <th>79</th>\n",
       "      <td>40.2</td>\n",
       "      <td>1</td>\n",
       "      <td>1</td>\n",
       "      <td>1</td>\n",
       "      <td>1</td>\n",
       "      <td>1</td>\n",
       "    </tr>\n",
       "    <tr>\n",
       "      <th>88</th>\n",
       "      <td>40.5</td>\n",
       "      <td>1</td>\n",
       "      <td>1</td>\n",
       "      <td>1</td>\n",
       "      <td>1</td>\n",
       "      <td>0</td>\n",
       "    </tr>\n",
       "    <tr>\n",
       "      <th>6</th>\n",
       "      <td>36.2</td>\n",
       "      <td>0</td>\n",
       "      <td>0</td>\n",
       "      <td>1</td>\n",
       "      <td>1</td>\n",
       "      <td>1</td>\n",
       "    </tr>\n",
       "    <tr>\n",
       "      <th>113</th>\n",
       "      <td>41.2</td>\n",
       "      <td>0</td>\n",
       "      <td>1</td>\n",
       "      <td>1</td>\n",
       "      <td>0</td>\n",
       "      <td>1</td>\n",
       "    </tr>\n",
       "    <tr>\n",
       "      <th>65</th>\n",
       "      <td>38.7</td>\n",
       "      <td>0</td>\n",
       "      <td>1</td>\n",
       "      <td>1</td>\n",
       "      <td>0</td>\n",
       "      <td>1</td>\n",
       "    </tr>\n",
       "    <tr>\n",
       "      <th>32</th>\n",
       "      <td>37.2</td>\n",
       "      <td>0</td>\n",
       "      <td>1</td>\n",
       "      <td>0</td>\n",
       "      <td>0</td>\n",
       "      <td>0</td>\n",
       "    </tr>\n",
       "    <tr>\n",
       "      <th>48</th>\n",
       "      <td>37.7</td>\n",
       "      <td>0</td>\n",
       "      <td>0</td>\n",
       "      <td>1</td>\n",
       "      <td>1</td>\n",
       "      <td>0</td>\n",
       "    </tr>\n",
       "    <tr>\n",
       "      <th>25</th>\n",
       "      <td>37.0</td>\n",
       "      <td>0</td>\n",
       "      <td>0</td>\n",
       "      <td>1</td>\n",
       "      <td>1</td>\n",
       "      <td>1</td>\n",
       "    </tr>\n",
       "    <tr>\n",
       "      <th>102</th>\n",
       "      <td>41.0</td>\n",
       "      <td>0</td>\n",
       "      <td>0</td>\n",
       "      <td>0</td>\n",
       "      <td>0</td>\n",
       "      <td>0</td>\n",
       "    </tr>\n",
       "    <tr>\n",
       "      <th>14</th>\n",
       "      <td>36.7</td>\n",
       "      <td>0</td>\n",
       "      <td>1</td>\n",
       "      <td>0</td>\n",
       "      <td>0</td>\n",
       "      <td>0</td>\n",
       "    </tr>\n",
       "    <tr>\n",
       "      <th>55</th>\n",
       "      <td>37.9</td>\n",
       "      <td>0</td>\n",
       "      <td>0</td>\n",
       "      <td>1</td>\n",
       "      <td>1</td>\n",
       "      <td>0</td>\n",
       "    </tr>\n",
       "    <tr>\n",
       "      <th>97</th>\n",
       "      <td>40.8</td>\n",
       "      <td>0</td>\n",
       "      <td>1</td>\n",
       "      <td>1</td>\n",
       "      <td>0</td>\n",
       "      <td>1</td>\n",
       "    </tr>\n",
       "    <tr>\n",
       "      <th>3</th>\n",
       "      <td>36.0</td>\n",
       "      <td>0</td>\n",
       "      <td>0</td>\n",
       "      <td>1</td>\n",
       "      <td>1</td>\n",
       "      <td>1</td>\n",
       "    </tr>\n",
       "    <tr>\n",
       "      <th>42</th>\n",
       "      <td>37.5</td>\n",
       "      <td>0</td>\n",
       "      <td>0</td>\n",
       "      <td>1</td>\n",
       "      <td>1</td>\n",
       "      <td>1</td>\n",
       "    </tr>\n",
       "    <tr>\n",
       "      <th>80</th>\n",
       "      <td>40.2</td>\n",
       "      <td>0</td>\n",
       "      <td>0</td>\n",
       "      <td>0</td>\n",
       "      <td>0</td>\n",
       "      <td>0</td>\n",
       "    </tr>\n",
       "    <tr>\n",
       "      <th>94</th>\n",
       "      <td>40.7</td>\n",
       "      <td>0</td>\n",
       "      <td>0</td>\n",
       "      <td>0</td>\n",
       "      <td>0</td>\n",
       "      <td>0</td>\n",
       "    </tr>\n",
       "    <tr>\n",
       "      <th>58</th>\n",
       "      <td>37.9</td>\n",
       "      <td>0</td>\n",
       "      <td>0</td>\n",
       "      <td>1</td>\n",
       "      <td>1</td>\n",
       "      <td>1</td>\n",
       "    </tr>\n",
       "    <tr>\n",
       "      <th>118</th>\n",
       "      <td>41.5</td>\n",
       "      <td>0</td>\n",
       "      <td>1</td>\n",
       "      <td>1</td>\n",
       "      <td>0</td>\n",
       "      <td>1</td>\n",
       "    </tr>\n",
       "  </tbody>\n",
       "</table>\n",
       "</div>"
      ],
      "text/plain": [
       "     Temperature  Nausea  Lumbar pain  Urine pushing  Micturition pains  \\\n",
       "13          36.7       0            0              1                  1   \n",
       "68          39.4       0            1              1                  0   \n",
       "54          37.8       0            0              1                  0   \n",
       "21          37.0       0            0              1                  1   \n",
       "67          39.0       0            1              1                  0   \n",
       "1           35.9       0            0              1                  1   \n",
       "53          37.8       0            0              1                  1   \n",
       "98          40.9       1            1              1                  1   \n",
       "41          37.5       0            1              0                  0   \n",
       "99          40.9       1            1              1                  1   \n",
       "57          37.9       0            1              0                  0   \n",
       "100         40.9       0            1              1                  0   \n",
       "66          38.9       0            1              1                  0   \n",
       "45          37.6       0            0              1                  1   \n",
       "16          36.8       0            0              1                  1   \n",
       "43          37.5       0            0              1                  0   \n",
       "69          39.7       0            1              1                  0   \n",
       "116         41.5       0            0              0                  0   \n",
       "103         41.0       1            1              0                  1   \n",
       "108         41.1       1            1              0                  1   \n",
       "61          38.0       0            1              1                  0   \n",
       "31          37.2       0            0              1                  1   \n",
       "33          37.2       0            0              1                  0   \n",
       "119         41.5       0            1              1                  0   \n",
       "79          40.2       1            1              1                  1   \n",
       "88          40.5       1            1              1                  1   \n",
       "6           36.2       0            0              1                  1   \n",
       "113         41.2       0            1              1                  0   \n",
       "65          38.7       0            1              1                  0   \n",
       "32          37.2       0            1              0                  0   \n",
       "48          37.7       0            0              1                  1   \n",
       "25          37.0       0            0              1                  1   \n",
       "102         41.0       0            0              0                  0   \n",
       "14          36.7       0            1              0                  0   \n",
       "55          37.9       0            0              1                  1   \n",
       "97          40.8       0            1              1                  0   \n",
       "3           36.0       0            0              1                  1   \n",
       "42          37.5       0            0              1                  1   \n",
       "80          40.2       0            0              0                  0   \n",
       "94          40.7       0            0              0                  0   \n",
       "58          37.9       0            0              1                  1   \n",
       "118         41.5       0            1              1                  0   \n",
       "\n",
       "     Burning of urethra  \n",
       "13                    1  \n",
       "68                    1  \n",
       "54                    0  \n",
       "21                    0  \n",
       "67                    1  \n",
       "1                     1  \n",
       "53                    1  \n",
       "98                    0  \n",
       "41                    0  \n",
       "99                    0  \n",
       "57                    0  \n",
       "100                   1  \n",
       "66                    1  \n",
       "45                    0  \n",
       "16                    1  \n",
       "43                    0  \n",
       "69                    1  \n",
       "116                   0  \n",
       "103                   0  \n",
       "108                   0  \n",
       "61                    1  \n",
       "31                    0  \n",
       "33                    0  \n",
       "119                   1  \n",
       "79                    1  \n",
       "88                    0  \n",
       "6                     1  \n",
       "113                   1  \n",
       "65                    1  \n",
       "32                    0  \n",
       "48                    0  \n",
       "25                    1  \n",
       "102                   0  \n",
       "14                    0  \n",
       "55                    0  \n",
       "97                    1  \n",
       "3                     1  \n",
       "42                    1  \n",
       "80                    0  \n",
       "94                    0  \n",
       "58                    1  \n",
       "118                   1  "
      ]
     },
     "execution_count": 355,
     "metadata": {},
     "output_type": "execute_result"
    }
   ],
   "source": [
    "X_test2"
   ]
  },
  {
   "cell_type": "code",
   "execution_count": 356,
   "id": "5990ed48",
   "metadata": {},
   "outputs": [
    {
     "data": {
      "text/plain": [
       "array([0, 1, 0, 0, 1, 0, 0, 1, 0, 1, 0, 1, 1, 0, 0, 0, 1, 0, 1, 1, 1, 0,\n",
       "       0, 1, 1, 1, 0, 1, 1, 0, 0, 0, 0, 0, 0, 1, 0, 0, 0, 0, 0, 1],\n",
       "      dtype=uint8)"
      ]
     },
     "execution_count": 356,
     "metadata": {},
     "output_type": "execute_result"
    }
   ],
   "source": [
    "predictions2"
   ]
  },
  {
   "cell_type": "markdown",
   "id": "0b30058c",
   "metadata": {},
   "source": [
    "### Evaluación MODELO 1 PARA Y= Nephritis"
   ]
  },
  {
   "cell_type": "code",
   "execution_count": 357,
   "id": "e3ca5801",
   "metadata": {},
   "outputs": [
    {
     "data": {
      "text/plain": [
       "array([[25,  0],\n",
       "       [ 0, 17]], dtype=int64)"
      ]
     },
     "execution_count": 357,
     "metadata": {},
     "output_type": "execute_result"
    }
   ],
   "source": [
    "confusion_matrix(y_test2,predictions2)"
   ]
  },
  {
   "cell_type": "code",
   "execution_count": 358,
   "id": "79866914",
   "metadata": {},
   "outputs": [
    {
     "name": "stdout",
     "output_type": "stream",
     "text": [
      "              precision    recall  f1-score   support\n",
      "\n",
      "           0       1.00      1.00      1.00        25\n",
      "           1       1.00      1.00      1.00        17\n",
      "\n",
      "    accuracy                           1.00        42\n",
      "   macro avg       1.00      1.00      1.00        42\n",
      "weighted avg       1.00      1.00      1.00        42\n",
      "\n"
     ]
    }
   ],
   "source": [
    "print(classification_report(y_test2,predictions2))"
   ]
  },
  {
   "cell_type": "markdown",
   "id": "1603a23e",
   "metadata": {},
   "source": [
    "## KNN (K vecinos más cercanos) Y=  Inflammation\n"
   ]
  },
  {
   "cell_type": "code",
   "execution_count": 361,
   "id": "7c4f1821",
   "metadata": {},
   "outputs": [],
   "source": [
    "X_train3, X_test3, y_train3, y_test3 = train_test_split(X1,y1,\n",
    "                                                    test_size=0.30,\n",
    "                                                    random_state=101)"
   ]
  },
  {
   "cell_type": "code",
   "execution_count": 362,
   "id": "39cc6b16",
   "metadata": {},
   "outputs": [],
   "source": [
    "from sklearn.neighbors import KNeighborsClassifier"
   ]
  },
  {
   "cell_type": "code",
   "execution_count": 363,
   "id": "b1e286b6",
   "metadata": {},
   "outputs": [],
   "source": [
    "knn = KNeighborsClassifier(n_neighbors=1)"
   ]
  },
  {
   "cell_type": "code",
   "execution_count": 364,
   "id": "7926c458",
   "metadata": {},
   "outputs": [
    {
     "data": {
      "text/plain": [
       "KNeighborsClassifier(n_neighbors=1)"
      ]
     },
     "execution_count": 364,
     "metadata": {},
     "output_type": "execute_result"
    }
   ],
   "source": [
    "knn.fit(X_train3,y_train3)"
   ]
  },
  {
   "cell_type": "code",
   "execution_count": 365,
   "id": "c245e99f",
   "metadata": {},
   "outputs": [],
   "source": [
    "pred = knn.predict(X_test3)"
   ]
  },
  {
   "cell_type": "markdown",
   "id": "46e3b4a4",
   "metadata": {},
   "source": [
    "### Predicciones y Evaluaciones"
   ]
  },
  {
   "cell_type": "code",
   "execution_count": 366,
   "id": "aacf7e19",
   "metadata": {},
   "outputs": [],
   "source": [
    "from sklearn.metrics import classification_report,confusion_matrix"
   ]
  },
  {
   "cell_type": "code",
   "execution_count": 367,
   "id": "ad887fcb",
   "metadata": {},
   "outputs": [
    {
     "name": "stdout",
     "output_type": "stream",
     "text": [
      "[[18  0]\n",
      " [ 0 18]]\n"
     ]
    }
   ],
   "source": [
    "print(confusion_matrix(y_test3,pred))"
   ]
  },
  {
   "cell_type": "code",
   "execution_count": 368,
   "id": "61e71f7c",
   "metadata": {},
   "outputs": [
    {
     "name": "stdout",
     "output_type": "stream",
     "text": [
      "              precision    recall  f1-score   support\n",
      "\n",
      "           0       1.00      1.00      1.00        18\n",
      "           1       1.00      1.00      1.00        18\n",
      "\n",
      "    accuracy                           1.00        36\n",
      "   macro avg       1.00      1.00      1.00        36\n",
      "weighted avg       1.00      1.00      1.00        36\n",
      "\n"
     ]
    }
   ],
   "source": [
    "print(classification_report(y_test3,pred))"
   ]
  },
  {
   "cell_type": "markdown",
   "id": "0367cb03",
   "metadata": {},
   "source": [
    "### Elección del valor de K"
   ]
  },
  {
   "cell_type": "code",
   "execution_count": 369,
   "id": "1d1c64b1",
   "metadata": {},
   "outputs": [],
   "source": [
    "tasa_error = []\n",
    "\n",
    "# Tomará algún tiempo\n",
    "for i in range(1,41):\n",
    "    knn = KNeighborsClassifier(n_neighbors=i)\n",
    "    knn.fit(X_train3,y_train3)\n",
    "    pred_i = knn.predict(X_test3)\n",
    "    tasa_error.append(np.mean(pred_i != y_test3))"
   ]
  },
  {
   "cell_type": "code",
   "execution_count": 370,
   "id": "df554b35",
   "metadata": {},
   "outputs": [
    {
     "data": {
      "text/plain": [
       "Text(0, 0.5, 'Tasa de Error')"
      ]
     },
     "execution_count": 370,
     "metadata": {},
     "output_type": "execute_result"
    },
    {
     "data": {
      "image/png": "[encoded data removed]",
      "text/plain": [
       "<Figure size 2500x1500 with 1 Axes>"
      ]
     },
     "metadata": {
      "needs_background": "light"
     },
     "output_type": "display_data"
    }
   ],
   "source": [
    "plt.figure(figsize=(10,6),dpi=250)\n",
    "plt.plot(range(1,41),tasa_error,color='blue', linestyle='dashed', marker='o',\n",
    "         markerfacecolor='red', markersize=10)\n",
    "plt.title('Tasa de Error vs. Valor de K')\n",
    "plt.xlabel('K')\n",
    "plt.ylabel('Tasa de Error')"
   ]
  },
  {
   "cell_type": "code",
   "execution_count": 386,
   "id": "655b4512",
   "metadata": {},
   "outputs": [
    {
     "name": "stdout",
     "output_type": "stream",
     "text": [
      "CON K=25\n",
      "\n",
      "\n",
      "[[11  7]\n",
      " [ 0 18]]\n",
      "\n",
      "\n",
      "              precision    recall  f1-score   support\n",
      "\n",
      "           0       1.00      0.61      0.76        18\n",
      "           1       0.72      1.00      0.84        18\n",
      "\n",
      "    accuracy                           0.81        36\n",
      "   macro avg       0.86      0.81      0.80        36\n",
      "weighted avg       0.86      0.81      0.80        36\n",
      "\n"
     ]
    }
   ],
   "source": [
    "# AHORA CON K=25\n",
    "knn = KNeighborsClassifier(n_neighbors=25)\n",
    "\n",
    "knn.fit(X_train3,y_train3)\n",
    "pred = knn.predict(X_test3)\n",
    "\n",
    "print('CON K=25')\n",
    "print('\\n')\n",
    "print(confusion_matrix(y_test3,pred))\n",
    "print('\\n')\n",
    "print(classification_report(y_test3,pred))"
   ]
  },
  {
   "cell_type": "code",
   "execution_count": 387,
   "id": "0c96371c",
   "metadata": {},
   "outputs": [],
   "source": [
    "from sklearn.metrics import plot_confusion_matrix\n",
    "from sklearn.metrics import plot_roc_curve\n",
    "from sklearn.metrics import plot_precision_recall_curve"
   ]
  },
  {
   "cell_type": "code",
   "execution_count": 388,
   "id": "5fbbf96d",
   "metadata": {},
   "outputs": [
    {
     "name": "stderr",
     "output_type": "stream",
     "text": [
      "C:\\Users\\Patrick\\anaconda3\\lib\\site-packages\\sklearn\\utils\\deprecation.py:87: FutureWarning: Function plot_confusion_matrix is deprecated; Function `plot_confusion_matrix` is deprecated in 1.0 and will be removed in 1.2. Use one of the class methods: ConfusionMatrixDisplay.from_predictions or ConfusionMatrixDisplay.from_estimator.\n",
      "  warnings.warn(msg, category=FutureWarning)\n"
     ]
    },
    {
     "data": {
      "text/plain": [
       "<sklearn.metrics._plot.confusion_matrix.ConfusionMatrixDisplay at 0x13f94afd280>"
      ]
     },
     "execution_count": 388,
     "metadata": {},
     "output_type": "execute_result"
    },
    {
     "data": {
      "image/png": "[encoded data removed]",
      "text/plain": [
       "<Figure size 432x288 with 1 Axes>"
      ]
     },
     "metadata": {
      "needs_background": "light"
     },
     "output_type": "display_data"
    }
   ],
   "source": [
    "plot_confusion_matrix(knn,X_test3,y_test3,colorbar=False)"
   ]
  },
  {
   "cell_type": "code",
   "execution_count": 389,
   "id": "b2ae839b",
   "metadata": {},
   "outputs": [
    {
     "name": "stderr",
     "output_type": "stream",
     "text": [
      "C:\\Users\\Patrick\\anaconda3\\lib\\site-packages\\sklearn\\utils\\deprecation.py:87: FutureWarning: Function plot_roc_curve is deprecated; Function :func:`plot_roc_curve` is deprecated in 1.0 and will be removed in 1.2. Use one of the class methods: :meth:`sklearn.metric.RocCurveDisplay.from_predictions` or :meth:`sklearn.metric.RocCurveDisplay.from_estimator`.\n",
      "  warnings.warn(msg, category=FutureWarning)\n"
     ]
    },
    {
     "data": {
      "text/plain": [
       "<sklearn.metrics._plot.roc_curve.RocCurveDisplay at 0x13f96417820>"
      ]
     },
     "execution_count": 389,
     "metadata": {},
     "output_type": "execute_result"
    },
    {
     "data": {
      "image/png": "[encoded data removed]",
      "text/plain": [
       "<Figure size 432x288 with 1 Axes>"
      ]
     },
     "metadata": {
      "needs_background": "light"
     },
     "output_type": "display_data"
    }
   ],
   "source": [
    "plot_roc_curve(knn,X_test3,y_test3)"
   ]
  },
  {
   "cell_type": "code",
   "execution_count": 390,
   "id": "86bbdf1a",
   "metadata": {},
   "outputs": [
    {
     "name": "stderr",
     "output_type": "stream",
     "text": [
      "C:\\Users\\Patrick\\anaconda3\\lib\\site-packages\\sklearn\\utils\\deprecation.py:87: FutureWarning: Function plot_precision_recall_curve is deprecated; Function `plot_precision_recall_curve` is deprecated in 1.0 and will be removed in 1.2. Use one of the class methods: PrecisionRecallDisplay.from_predictions or PrecisionRecallDisplay.from_estimator.\n",
      "  warnings.warn(msg, category=FutureWarning)\n"
     ]
    },
    {
     "data": {
      "text/plain": [
       "<sklearn.metrics._plot.precision_recall_curve.PrecisionRecallDisplay at 0x13f95878fa0>"
      ]
     },
     "execution_count": 390,
     "metadata": {},
     "output_type": "execute_result"
    },
    {
     "data": {
      "image/png": "[encoded data removed]",
      "text/plain": [
       "<Figure size 432x288 with 1 Axes>"
      ]
     },
     "metadata": {
      "needs_background": "light"
     },
     "output_type": "display_data"
    }
   ],
   "source": [
    "plot_precision_recall_curve(knn,X_test3,y_test3)"
   ]
  },
  {
   "cell_type": "markdown",
   "id": "b4f41c37",
   "metadata": {},
   "source": [
    "### Uso de KNN (K vecinos más cercanos) Y=Nephritis"
   ]
  },
  {
   "cell_type": "code",
   "execution_count": 378,
   "id": "d08709df",
   "metadata": {},
   "outputs": [],
   "source": [
    "X_train4, X_test4, y_train4, y_test4 = train_test_split(X2,y2,\n",
    "                                                    test_size=0.30,\n",
    "                                                    random_state=101)"
   ]
  },
  {
   "cell_type": "code",
   "execution_count": 379,
   "id": "025fde7f",
   "metadata": {},
   "outputs": [],
   "source": [
    "knn = KNeighborsClassifier(n_neighbors=1)"
   ]
  },
  {
   "cell_type": "code",
   "execution_count": 380,
   "id": "69dfb51c",
   "metadata": {},
   "outputs": [
    {
     "data": {
      "text/plain": [
       "KNeighborsClassifier(n_neighbors=1)"
      ]
     },
     "execution_count": 380,
     "metadata": {},
     "output_type": "execute_result"
    }
   ],
   "source": [
    "knn.fit(X_train4,y_train4)"
   ]
  },
  {
   "cell_type": "code",
   "execution_count": 381,
   "id": "95332ded",
   "metadata": {},
   "outputs": [],
   "source": [
    "pred = knn.predict(X_test4)"
   ]
  },
  {
   "cell_type": "markdown",
   "id": "e422e45c",
   "metadata": {},
   "source": [
    "### Predicciones y Evaluaciones"
   ]
  },
  {
   "cell_type": "code",
   "execution_count": 382,
   "id": "30563011",
   "metadata": {},
   "outputs": [
    {
     "name": "stdout",
     "output_type": "stream",
     "text": [
      "[[20  0]\n",
      " [ 0 16]]\n"
     ]
    }
   ],
   "source": [
    "print(confusion_matrix(y_test4,pred))"
   ]
  },
  {
   "cell_type": "code",
   "execution_count": 383,
   "id": "5c31454c",
   "metadata": {},
   "outputs": [
    {
     "name": "stdout",
     "output_type": "stream",
     "text": [
      "              precision    recall  f1-score   support\n",
      "\n",
      "           0       0.30      0.33      0.32        18\n",
      "           1       0.25      0.22      0.24        18\n",
      "\n",
      "    accuracy                           0.28        36\n",
      "   macro avg       0.28      0.28      0.28        36\n",
      "weighted avg       0.27      0.28      0.28        36\n",
      "\n"
     ]
    }
   ],
   "source": [
    "print(classification_report(y_test3,pred))"
   ]
  },
  {
   "cell_type": "markdown",
   "id": "b135c6fd",
   "metadata": {},
   "source": [
    "### Elección del valor de K"
   ]
  },
  {
   "cell_type": "code",
   "execution_count": 384,
   "id": "8ffed201",
   "metadata": {},
   "outputs": [],
   "source": [
    "tasa_error = []\n",
    "\n",
    "# Tomará algún tiempo\n",
    "for i in range(1,41):\n",
    "    knn = KNeighborsClassifier(n_neighbors=i)\n",
    "    knn.fit(X_train4,y_train4)\n",
    "    pred_i = knn.predict(X_test4)\n",
    "    tasa_error.append(np.mean(pred_i != y_test4))"
   ]
  },
  {
   "cell_type": "code",
   "execution_count": 385,
   "id": "ddde9e76",
   "metadata": {},
   "outputs": [
    {
     "data": {
      "text/plain": [
       "Text(0, 0.5, 'Tasa de Error')"
      ]
     },
     "execution_count": 385,
     "metadata": {},
     "output_type": "execute_result"
    },
    {
     "data": {
      "image/png": "[encoded data removed]",
      "text/plain": [
       "<Figure size 2500x1500 with 1 Axes>"
      ]
     },
     "metadata": {
      "needs_background": "light"
     },
     "output_type": "display_data"
    }
   ],
   "source": [
    "plt.figure(figsize=(10,6),dpi=250)\n",
    "plt.plot(range(1,41),tasa_error,color='blue', linestyle='dashed', marker='o',\n",
    "         markerfacecolor='red', markersize=10)\n",
    "plt.title('Tasa de Error vs. Valor de K')\n",
    "plt.xlabel('K')\n",
    "plt.ylabel('Tasa de Error')"
   ]
  },
  {
   "cell_type": "code",
   "execution_count": 391,
   "id": "71beeb97",
   "metadata": {},
   "outputs": [
    {
     "name": "stdout",
     "output_type": "stream",
     "text": [
      "CON K=16\n",
      "\n",
      "\n",
      "[[20  0]\n",
      " [ 2 14]]\n",
      "\n",
      "\n",
      "              precision    recall  f1-score   support\n",
      "\n",
      "           0       0.91      1.00      0.95        20\n",
      "           1       1.00      0.88      0.93        16\n",
      "\n",
      "    accuracy                           0.94        36\n",
      "   macro avg       0.95      0.94      0.94        36\n",
      "weighted avg       0.95      0.94      0.94        36\n",
      "\n"
     ]
    }
   ],
   "source": [
    "# AHORA CON K=16\n",
    "knn = KNeighborsClassifier(n_neighbors=16)\n",
    "\n",
    "knn.fit(X_train4,y_train4)\n",
    "pred = knn.predict(X_test4)\n",
    "\n",
    "print('CON K=16')\n",
    "print('\\n')\n",
    "print(confusion_matrix(y_test4,pred))\n",
    "print('\\n')\n",
    "print(classification_report(y_test4,pred))"
   ]
  },
  {
   "cell_type": "code",
   "execution_count": 392,
   "id": "85d373bd",
   "metadata": {},
   "outputs": [
    {
     "name": "stderr",
     "output_type": "stream",
     "text": [
      "C:\\Users\\Patrick\\anaconda3\\lib\\site-packages\\sklearn\\utils\\deprecation.py:87: FutureWarning: Function plot_confusion_matrix is deprecated; Function `plot_confusion_matrix` is deprecated in 1.0 and will be removed in 1.2. Use one of the class methods: ConfusionMatrixDisplay.from_predictions or ConfusionMatrixDisplay.from_estimator.\n",
      "  warnings.warn(msg, category=FutureWarning)\n"
     ]
    },
    {
     "data": {
      "text/plain": [
       "<sklearn.metrics._plot.confusion_matrix.ConfusionMatrixDisplay at 0x13f9651cdc0>"
      ]
     },
     "execution_count": 392,
     "metadata": {},
     "output_type": "execute_result"
    },
    {
     "data": {
      "image/png": "[encoded data removed]",
      "text/plain": [
       "<Figure size 432x288 with 1 Axes>"
      ]
     },
     "metadata": {
      "needs_background": "light"
     },
     "output_type": "display_data"
    }
   ],
   "source": [
    "plot_confusion_matrix(knn,X_test4,y_test4,colorbar=False)"
   ]
  },
  {
   "cell_type": "code",
   "execution_count": 393,
   "id": "8af83173",
   "metadata": {},
   "outputs": [
    {
     "name": "stderr",
     "output_type": "stream",
     "text": [
      "C:\\Users\\Patrick\\anaconda3\\lib\\site-packages\\sklearn\\utils\\deprecation.py:87: FutureWarning: Function plot_roc_curve is deprecated; Function :func:`plot_roc_curve` is deprecated in 1.0 and will be removed in 1.2. Use one of the class methods: :meth:`sklearn.metric.RocCurveDisplay.from_predictions` or :meth:`sklearn.metric.RocCurveDisplay.from_estimator`.\n",
      "  warnings.warn(msg, category=FutureWarning)\n"
     ]
    },
    {
     "data": {
      "text/plain": [
       "<sklearn.metrics._plot.roc_curve.RocCurveDisplay at 0x13f955c4a30>"
      ]
     },
     "execution_count": 393,
     "metadata": {},
     "output_type": "execute_result"
    },
    {
     "data": {
      "image/png": "[encoded data removed]",
      "text/plain": [
       "<Figure size 432x288 with 1 Axes>"
      ]
     },
     "metadata": {
      "needs_background": "light"
     },
     "output_type": "display_data"
    }
   ],
   "source": [
    "plot_roc_curve(knn,X_test4,y_test4)"
   ]
  },
  {
   "cell_type": "code",
   "execution_count": 394,
   "id": "a3357f59",
   "metadata": {},
   "outputs": [
    {
     "name": "stderr",
     "output_type": "stream",
     "text": [
      "C:\\Users\\Patrick\\anaconda3\\lib\\site-packages\\sklearn\\utils\\deprecation.py:87: FutureWarning: Function plot_precision_recall_curve is deprecated; Function `plot_precision_recall_curve` is deprecated in 1.0 and will be removed in 1.2. Use one of the class methods: PrecisionRecallDisplay.from_predictions or PrecisionRecallDisplay.from_estimator.\n",
      "  warnings.warn(msg, category=FutureWarning)\n"
     ]
    },
    {
     "data": {
      "text/plain": [
       "<sklearn.metrics._plot.precision_recall_curve.PrecisionRecallDisplay at 0x13f9656e610>"
      ]
     },
     "execution_count": 394,
     "metadata": {},
     "output_type": "execute_result"
    },
    {
     "data": {
      "image/png": "[encoded data removed]",
      "text/plain": [
       "<Figure size 432x288 with 1 Axes>"
      ]
     },
     "metadata": {
      "needs_background": "light"
     },
     "output_type": "display_data"
    }
   ],
   "source": [
    "plot_precision_recall_curve(knn,X_test4,y_test4)"
   ]
  },
  {
   "cell_type": "code",
   "execution_count": 395,
   "id": "225e75cc",
   "metadata": {},
   "outputs": [
    {
     "name": "stdout",
     "output_type": "stream",
     "text": [
      "<class 'pandas.core.frame.DataFrame'>\n",
      "RangeIndex: 120 entries, 0 to 119\n",
      "Data columns (total 8 columns):\n",
      " #   Column              Non-Null Count  Dtype  \n",
      "---  ------              --------------  -----  \n",
      " 0   Temperature         120 non-null    float64\n",
      " 1   Nausea              120 non-null    uint8  \n",
      " 2   Lumbar pain         120 non-null    uint8  \n",
      " 3   Urine pushing       120 non-null    uint8  \n",
      " 4   Micturition pains   120 non-null    uint8  \n",
      " 5   Burning of urethra  120 non-null    uint8  \n",
      " 6   Inflammation        120 non-null    uint8  \n",
      " 7   Nephritis           120 non-null    uint8  \n",
      "dtypes: float64(1), uint8(7)\n",
      "memory usage: 1.9 KB\n"
     ]
    }
   ],
   "source": [
    "datos.info()"
   ]
  },
  {
   "cell_type": "markdown",
   "id": "655c9f3b",
   "metadata": {},
   "source": [
    "# CONCLUSIONES"
   ]
  },
  {
   "cell_type": "markdown",
   "id": "1e9dc3bd",
   "metadata": {},
   "source": [
    "-REGRESION LOGISTICA\n",
    "\n",
    "El uso de la regresion logistica fue efectiva, para la variable y = Inflammation tuvo una precision de 1 y para la variable y = Nephritis tambien tuvo una exactitud de 1.\n",
    "\n",
    "-KNN\n",
    "\n",
    "Para KNN tuvimos mayor precision con la variable de Inflammation con respecto a la variable Nephritis"
   ]
  },
  {
   "cell_type": "code",
   "execution_count": null,
   "id": "6a518d57",
   "metadata": {},
   "outputs": [],
   "source": []
  }
 ],
 "metadata": {
  "kernelspec": {
   "display_name": "Python 3 (ipykernel)",
   "language": "python",
   "name": "python3"
  },
  "language_info": {
   "codemirror_mode": {
    "name": "ipython",
    "version": 3
   },
   "file_extension": ".py",
   "mimetype": "text/x-python",
   "name": "python",
   "nbconvert_exporter": "python",
   "pygments_lexer": "ipython3",
   "version": "3.9.12"
  }
 },
 "nbformat": 4,
 "nbformat_minor": 5
}
