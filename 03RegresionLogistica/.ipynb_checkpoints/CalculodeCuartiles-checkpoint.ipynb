{
 "cells": [
  {
   "cell_type": "markdown",
   "id": "3e72580c",
   "metadata": {},
   "source": [
    "# Calculo de cuartiles a las edades por clase del titanic\n"
   ]
  },
  {
   "cell_type": "markdown",
   "id": "6125bdbb",
   "metadata": {},
   "source": [
    "## pisaña llamocca patrick florian - 19200093"
   ]
  },
  {
   "cell_type": "code",
   "execution_count": 2,
   "id": "22cfe0d4",
   "metadata": {},
   "outputs": [],
   "source": [
    "import pandas as pd\n",
    "import numpy as np\n",
    "import matplotlib as plt\n",
    "import seaborn as sns\n",
    "%matplotlib inline"
   ]
  },
  {
   "cell_type": "code",
   "execution_count": 5,
   "id": "2afab896",
   "metadata": {},
   "outputs": [],
   "source": [
    "datos = pd.read_csv('titanic_test.csv')"
   ]
  },
  {
   "cell_type": "code",
   "execution_count": 7,
   "id": "60f11ad4",
   "metadata": {},
   "outputs": [
    {
     "data": {
      "text/plain": [
       "<AxesSubplot:xlabel='Pclass', ylabel='Age'>"
      ]
     },
     "execution_count": 7,
     "metadata": {},
     "output_type": "execute_result"
    },
    {
     "data": {
      "image/png": "[encoded data removed]",
      "text/plain": [
       "<Figure size 432x288 with 1 Axes>"
      ]
     },
     "metadata": {
      "needs_background": "light"
     },
     "output_type": "display_data"
    }
   ],
   "source": [
    "sns.boxplot(x='Pclass', y = 'Age' ,data=datos, palette = 'winter')"
   ]
  },
  {
   "cell_type": "code",
   "execution_count": 11,
   "id": "87bd218d",
   "metadata": {},
   "outputs": [],
   "source": [
    "pasaj_c1 = datos[(datos['Pclass']==1) & (datos['Age'].isnull()==False)]\n",
    "pasaj_c2 = datos[datos['Pclass']==2]\n",
    "pasaj_c3 = datos[datos['Pclass']==3]"
   ]
  },
  {
   "cell_type": "code",
   "execution_count": 12,
   "id": "c71e86ee",
   "metadata": {},
   "outputs": [],
   "source": [
    "edades_c1 = pasaj_c1['Age']\n",
    "edades_c2 = pasaj_c2['Age'].dropna()\n",
    "edades_c3 = pasaj_c3['Age'].dropna()"
   ]
  },
  {
   "cell_type": "code",
   "execution_count": 14,
   "id": "4cacee9b",
   "metadata": {},
   "outputs": [],
   "source": [
    "Cuartiles_c1 = pd.DataFrame(edades_c1.quantile([0.25,0.50,0.75]))\n",
    "Cuartiles_c1.columns = ['Edad']\n",
    "Cuartiles_c1.index = [\"Q1\", \"Q2\", \"Q3\"]\n",
    "Cuartiles_c2 = pd.DataFrame(edades_c2.quantile([0.25,0.50,0.75]))\n",
    "Cuartiles_c2.columns = ['Edad']\n",
    "Cuartiles_c2.index = [\"Q1\", \"Q2\", \"Q3\"]\n",
    "Cuartiles_c3 = pd.DataFrame(edades_c3.quantile([0.25,0.50,0.75]))\n",
    "Cuartiles_c3.columns = ['Edad']\n",
    "Cuartiles_c3.index = [\"Q1\", \"Q2\", \"Q3\"]"
   ]
  },
  {
   "cell_type": "code",
   "execution_count": 15,
   "id": "b3f9c1c9",
   "metadata": {},
   "outputs": [
    {
     "name": "stdout",
     "output_type": "stream",
     "text": [
      "Primera Clase\n",
      "     Edad\n",
      "Q1  30.00\n",
      "Q2  42.00\n",
      "Q3  50.75\n",
      "Segunda Clase\n",
      "     Edad\n",
      "Q1  21.00\n",
      "Q2  26.50\n",
      "Q3  35.25\n",
      "Tercera Clase\n",
      "     Edad\n",
      "Q1  18.50\n",
      "Q2  24.00\n",
      "Q3  29.75\n"
     ]
    }
   ],
   "source": [
    "print(\"Primera Clase\")\n",
    "print(Cuartiles_c1)\n",
    "print(\"Segunda Clase\")\n",
    "print(Cuartiles_c2)\n",
    "print(\"Tercera Clase\")\n",
    "print(Cuartiles_c3)"
   ]
  },
  {
   "cell_type": "code",
   "execution_count": 16,
   "id": "ba6b99b7",
   "metadata": {},
   "outputs": [
    {
     "name": "stdout",
     "output_type": "stream",
     "text": [
      "Promedio edad  1ra Clase:  40.92\n",
      "Promedio edad  2ra Clase:  28.78\n",
      "Promedio edad  3ra Clase:  24.03\n"
     ]
    }
   ],
   "source": [
    "print(\"Promedio edad  1ra Clase: \", np.round(edades_c1.mean(),2))\n",
    "print(\"Promedio edad  2ra Clase: \", np.round(edades_c2.mean(),2))\n",
    "print(\"Promedio edad  3ra Clase: \", np.round(edades_c3.mean(),2))"
   ]
  },
  {
   "cell_type": "code",
   "execution_count": 17,
   "id": "dd23628b",
   "metadata": {},
   "outputs": [],
   "source": [
    "psj_por_clase = datos.groupby(['Pclass'])"
   ]
  },
  {
   "cell_type": "code",
   "execution_count": 18,
   "id": "93fc4b2a",
   "metadata": {},
   "outputs": [
    {
     "data": {
      "text/plain": [
       "Pclass      \n",
       "1       0.25    30.00\n",
       "        0.50    42.00\n",
       "        0.75    50.75\n",
       "2       0.25    21.00\n",
       "        0.50    26.50\n",
       "        0.75    35.25\n",
       "3       0.25    18.50\n",
       "        0.50    24.00\n",
       "        0.75    29.75\n",
       "Name: Age, dtype: float64"
      ]
     },
     "execution_count": 18,
     "metadata": {},
     "output_type": "execute_result"
    }
   ],
   "source": [
    "psj_por_clase['Age'].quantile([0.25,0.50,0.75])"
   ]
  },
  {
   "cell_type": "code",
   "execution_count": null,
   "id": "8092669b",
   "metadata": {},
   "outputs": [],
   "source": []
  }
 ],
 "metadata": {
  "kernelspec": {
   "display_name": "Python 3 (ipykernel)",
   "language": "python",
   "name": "python3"
  },
  "language_info": {
   "codemirror_mode": {
    "name": "ipython",
    "version": 3
   },
   "file_extension": ".py",
   "mimetype": "text/x-python",
   "name": "python",
   "nbconvert_exporter": "python",
   "pygments_lexer": "ipython3",
   "version": "3.9.12"
  }
 },
 "nbformat": 4,
 "nbformat_minor": 5
}
